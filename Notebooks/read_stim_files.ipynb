{
 "cells": [
  {
   "cell_type": "code",
   "execution_count": 50,
   "id": "f4a05823-56be-4480-9f83-61929a9ee557",
   "metadata": {},
   "outputs": [],
   "source": [
    "# script for reading stim files and aligning it to frames"
   ]
  },
  {
   "cell_type": "code",
   "execution_count": 31,
   "id": "724c44c1-0696-456d-9f7a-145326875dda",
   "metadata": {},
   "outputs": [
    {
     "data": {
      "text/plain": [
       "'/home/jupyter/bucket/Data/Calcium_imaging/suite2p/Bergamo-2P-Photostim/BCI_70/FOV_01/110123'"
      ]
     },
     "execution_count": 31,
     "metadata": {},
     "output_type": "execute_result"
    }
   ],
   "source": [
    "os.path.join(s2p_session_dir,''"
   ]
  },
  {
   "cell_type": "code",
   "execution_count": 36,
   "id": "ec41f3fd-320a-4f60-906e-cc6fe21c2fdc",
   "metadata": {},
   "outputs": [
    {
     "name": "stdout",
     "output_type": "stream",
     "text": [
      "spont\n",
      "spont2\n",
      "pre_neuron45_with_light\n",
      "neuron45_with_light\n",
      "spont\n",
      "spont2\n",
      "pre_neuron45_with_light\n",
      "neuron45_with_light\n"
     ]
    }
   ],
   "source": [
    "import os, json\n",
    "import numpy as np\n",
    "from BCI_analysis.io_bci.io_scanimage import extract_scanimage_metadata\n",
    "subject = 'BCI_70'\n",
    "session = '110123'\n",
    "FOV = 'FOV_01'\n",
    "\n",
    "sessionwise_base_dir = '/home/jupyter/bucket/Data/Calcium_imaging/sessionwise_tba'\n",
    "s2p_base_dir = '/home/jupyter/bucket/Data/Calcium_imaging/suite2p/Bergamo-2P-Photostim'\n",
    "raw_scanimage_dir = '/home/jupyter/bucket/Data/Calcium_imaging/raw/Bergamo-2P-Photostim'\n",
    "bpod_path = '/home/jupyter/bucket/Data/Behavior/BCI_exported/Bergamo-2P-Photostim/'\n",
    "\n",
    "\n",
    "# get stim file names\n",
    "s2p_session_dir = os.path.join(s2p_base_dir,subject,FOV,session)\n",
    "raw_session_dir = os.path.join(raw_scanimage_dir,subject,session)\n",
    "os.listdir(s2p_session_dir)\n",
    "with open(os.path.join(s2p_session_dir,'filelist.json')) as f:\n",
    "    filelist_dict = json.load(f)\n",
    "basenames_list = []\n",
    "for file in filelist_dict['file_name_list']:\n",
    "    basenames_list.append(file[:-1*file[::-1].find('_')-1])\n",
    "rawfiles = os.listdir(raw_session_dir)\n",
    "stim_files = []\n",
    "stim_file_basenames = []\n",
    "for file in rawfiles:\n",
    "    if file.endswith('.stim'):\n",
    "        stim_files.append(file)\n",
    "        stim_file_basenames.append(file[:-1*file[::-1].find('_')-1])\n",
    "\n",
    "# pair stim files to tiff files, also load stim files\n",
    "basenames_done = []\n",
    "bluelight_trace_list = []\n",
    "raw_trace_list = []\n",
    "frame_nums_in_files = []\n",
    "tiff_file_names = []\n",
    "frame_rate_list = []\n",
    "blue_light_sampling_rate_list = []\n",
    "for fname,basename,framenum in zip(filelist_dict['file_name_list'],basenames_list,filelist_dict['frame_num_list']):\n",
    "    \n",
    "    if basename not in basenames_done:\n",
    "        frame_nums_in_files.append([])\n",
    "        frame_nums_in_files[-1].append(framenum)\n",
    "        tiff_file_names.append([])\n",
    "        tiff_file_names[-1].append(fname)\n",
    "    else:\n",
    "        frame_nums_in_files[-1].append(framenum)\n",
    "        tiff_file_names[-1].append(fname)\n",
    "        continue\n",
    "    print(basename)\n",
    "    basenames_done.append(basename)\n",
    "    stim_file_name = fname[:-4]+'.stim'\n",
    "    hFile = open(os.path.join(raw_session_dir,stim_file_name), 'rb')  # Use 'rb' for reading binary file\n",
    "    phtstimdata = np.fromfile(hFile, dtype=np.float32)\n",
    "    hFile.close()\n",
    "    datarecordsize = 3\n",
    "    lgth = len(phtstimdata)\n",
    "    if lgth % datarecordsize != 0:\n",
    "        print('Unexpected size of photostim log file')\n",
    "        lgth = (lgth // datarecordsize) * datarecordsize\n",
    "        phtstimdata = phtstimdata[:lgth]\n",
    "\n",
    "    # Reshape the data\n",
    "    phtstimdata = np.reshape(phtstimdata, (lgth // datarecordsize, datarecordsize))\n",
    "\n",
    "    # Extract x, y, and beam power\n",
    "    out = {}\n",
    "    bluelight =  phtstimdata[:, 0]\n",
    "    bluelight_trace_list.append(bluelight)\n",
    "    raw_trace_list.append(phtstimdata)\n",
    "    tiff_header = extract_scanimage_metadata(os.path.join(raw_session_dir,fname))\n",
    "    blue_lightsampling_rate = float(tiff_header['metadata']['hPhotostim']['monitoringSampleRate'])\n",
    "    frame_rate = float(tiff_header['frame_rate'])\n",
    "    frame_rate_list.append(frame_rate)\n",
    "    blue_light_sampling_rate_list.append(blue_lightsampling_rate)\n",
    "# parse stim files\n",
    "fulltrace = np.concatenate(bluelight_trace_list)\n",
    "minval = np.nanmin(fulltrace)\n",
    "fulltrace_rescaled = fulltrace - minval\n",
    "maxval = np.nanmax(fulltrace_rescaled)\n",
    "fulltrace_rescaled = fulltrace_rescaled/maxval\n",
    "y,x = np.histogram(fulltrace_rescaled,3)\n",
    "if y[0]<y[-1]:\n",
    "    multiplier = -1\n",
    "    offset = -1\n",
    "else:\n",
    "    multiplier = 1\n",
    "    offset = 0\n",
    "#fulltrace_rescaled = np.abs((fulltrace_rescaled+offset)*multiplier)\n",
    "#lighton = fulltrace_rescaled>.5\n",
    "\n",
    "### downsample the trace to match the frame numbers\n",
    "downsampled_blue_light_trace_list = []\n",
    "downsampled_raw_trace_list = []\n",
    "blue_light_list = []\n",
    "for basename_now, bluelight_trace, frame_nums,tiff_names, frame_rate, blue_light_sampling_rate,raw_trace in zip(basenames_done,\n",
    "                                                                                                           bluelight_trace_list,\n",
    "                                                                                                           frame_nums_in_files,\n",
    "                                                                                                           tiff_file_names,\n",
    "                                                                                                           frame_rate_list,\n",
    "                                                                                                           blue_light_sampling_rate_list,\n",
    "                                                                                                               raw_trace_list):\n",
    "    print(basename_now)\n",
    "    light_on = ((((bluelight_trace - minval)/maxval)+offset)*multiplier ) > .5\n",
    "    blue_light_list.append(light_on)\n",
    "    total_framenum = sum(frame_nums)\n",
    "    frame_times = np.arange(total_framenum)/frame_rate\n",
    "    sample_times = np.arange(len(bluelight_trace))/blue_lightsampling_rate\n",
    "\n",
    "    blue_light_trace_downsampled = []\n",
    "    raw_trace_list_downsampled = []\n",
    "    for t in frame_times:\n",
    "        idx = np.argmax(sample_times>t)\n",
    "        blue_light_trace_downsampled.append(light_on[idx])\n",
    "        raw_trace_list_downsampled.append(raw_trace[idx,:])\n",
    "    downsampled_blue_light_trace_list.append(np.asarray(blue_light_trace_downsampled))\n",
    "    downsampled_raw_trace_list.append(np.asarray(raw_trace_list_downsampled))\n",
    "    \n",
    "    \n",
    "    #blue_light_trace_time = len(bluelight_trace)/blue_lightsampling_rate\n",
    "\n",
    "downsampled_blue_light_trace = np.concatenate(downsampled_blue_light_trace_list)\n",
    "downsampled_raw_trace = np.concatenate(downsampled_raw_trace_list,0)\n",
    "raw_dict= {'basenames':basenames_done,\n",
    "           'frame_nums':frame_nums_in_files,\n",
    "           'tiff_names':tiff_file_names,\n",
    "           'frame_rates':frame_rate_list,\n",
    "           'sampling_rate':blue_light_sampling_rate_list,\n",
    "           'traces':raw_trace_list,\n",
    "           'blue_light':blue_light_list}\n",
    "out_dict = {'raw':raw_dict,\n",
    "            'downsampled_traces':downsampled_raw_trace_list,\n",
    "           'blue_light':downsampled_blue_light_trace}\n",
    "\n",
    "np.save(os.path.join(s2p_session_dir,'stim_file.npy'),out_dict)"
   ]
  },
  {
   "cell_type": "code",
   "execution_count": 35,
   "id": "78b8d254-33c3-4225-bf70-bc837d2b183e",
   "metadata": {},
   "outputs": [
    {
     "data": {
      "text/plain": [
       "(30950, 3)"
      ]
     },
     "execution_count": 35,
     "metadata": {},
     "output_type": "execute_result"
    }
   ],
   "source": [
    ".shape"
   ]
  },
  {
   "cell_type": "code",
   "execution_count": 30,
   "id": "76d7f14b-2388-4e16-b100-5911217ad10d",
   "metadata": {},
   "outputs": [
    {
     "data": {
      "text/plain": [
       "[<matplotlib.lines.Line2D at 0x7f5d502dafd0>]"
      ]
     },
     "execution_count": 30,
     "metadata": {},
     "output_type": "execute_result"
    },
    {
     "data": {
      "image/png": "[encoded data removed]",
      "text/plain": [
       "<Figure size 432x288 with 1 Axes>"
      ]
     },
     "metadata": {
      "needs_background": "light"
     },
     "output_type": "display_data"
    }
   ],
   "source": [
    "plt.plot(np.concatenate(downsampled_blue_light_trace_list))"
   ]
  },
  {
   "cell_type": "code",
   "execution_count": 28,
   "id": "252c3871-965d-488d-8a22-8cd26fc00d69",
   "metadata": {},
   "outputs": [
    {
     "name": "stdout",
     "output_type": "stream",
     "text": [
      "spont\n",
      "spont2\n",
      "pre_neuron45_with_light\n",
      "neuron45_with_light\n"
     ]
    }
   ],
   "source": []
  },
  {
   "cell_type": "code",
   "execution_count": 9,
   "id": "37dc77ff-cf64-494a-a029-fce90a95fb9a",
   "metadata": {},
   "outputs": [
    {
     "ename": "NameError",
     "evalue": "name 'total_framenum' is not defined",
     "output_type": "error",
     "traceback": [
      "\u001b[0;31m---------------------------------------------------------------------------\u001b[0m",
      "\u001b[0;31mNameError\u001b[0m                                 Traceback (most recent call last)",
      "Input \u001b[0;32mIn [9]\u001b[0m, in \u001b[0;36m<cell line: 1>\u001b[0;34m()\u001b[0m\n\u001b[0;32m----> 1\u001b[0m \u001b[43mtotal_framenum\u001b[49m\n",
      "\u001b[0;31mNameError\u001b[0m: name 'total_framenum' is not defined"
     ]
    }
   ],
   "source": []
  },
  {
   "cell_type": "code",
   "execution_count": 25,
   "id": "24c78f01-c109-478e-a1a0-0b386c82ba90",
   "metadata": {},
   "outputs": [
    {
     "data": {
      "text/plain": [
       "463.4135038695028"
      ]
     },
     "execution_count": 25,
     "metadata": {},
     "output_type": "execute_result"
    }
   ],
   "source": [
    "blue_lightsampling_rate/frame_rate"
   ]
  },
  {
   "cell_type": "code",
   "execution_count": 4,
   "id": "ca525440-ed49-47c0-a3e6-1a3f4a69be78",
   "metadata": {},
   "outputs": [
    {
     "data": {
      "text/plain": [
       "[<matplotlib.lines.Line2D at 0x7f5d4a2f04f0>]"
      ]
     },
     "execution_count": 4,
     "metadata": {},
     "output_type": "execute_result"
    },
    {
     "data": {
      "image/png": "[encoded data removed]",
      "text/plain": [
       "<Figure size 432x288 with 1 Axes>"
      ]
     },
     "metadata": {
      "needs_background": "light"
     },
     "output_type": "display_data"
    }
   ],
   "source": [
    "import matplotlib.pyplot as plt\n",
    "\n",
    "plt.plot(lighton)"
   ]
  }
 ],
 "metadata": {
  "environment": {
   "kernel": "bci_with_suite2p",
   "name": "common-cpu.m92",
   "type": "gcloud",
   "uri": "gcr.io/deeplearning-platform-release/base-cpu:m92"
  },
  "kernelspec": {
   "display_name": "bci_with_suite2p",
   "language": "python",
   "name": "bci_with_suite2p"
  },
  "language_info": {
   "codemirror_mode": {
    "name": "ipython",
    "version": 3
   },
   "file_extension": ".py",
   "mimetype": "text/x-python",
   "name": "python",
   "nbconvert_exporter": "python",
   "pygments_lexer": "ipython3",
   "version": "3.8.13"
  }
 },
 "nbformat": 4,
 "nbformat_minor": 5
}
