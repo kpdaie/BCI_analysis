{
 "cells": [
  {
   "cell_type": "markdown",
   "id": "2684bb8d-b043-4d4d-9b5f-c4463f221e84",
   "metadata": {},
   "source": [
    "# more extraction - low priority"
   ]
  },
  {
   "cell_type": "code",
   "execution_count": null,
   "id": "0db8dc71-a4ee-41e7-a9b8-a1476078b5cf",
   "metadata": {},
   "outputs": [],
   "source": [
    "# write a script to extract the motion energy of the pixels inside the nose-jaw-eye delineated rectangle - to include whisker pad but exclude moving lickport"
   ]
  },
  {
   "cell_type": "markdown",
   "id": "e8dcaf78-b046-47d8-89c0-ff9f92f1d08c",
   "metadata": {},
   "source": [
    "# regression"
   ]
  },
  {
   "cell_type": "code",
   "execution_count": null,
   "id": "863da5d3-b9a2-4ccc-816c-ab2d03eca213",
   "metadata": {},
   "outputs": [],
   "source": [
    "#Import necessary libraries - should work mostly from BCI_analysis + matplotlib + numpy"
   ]
  },
  {
   "cell_type": "code",
   "execution_count": null,
   "id": "4ad8621c-fd93-42ac-a9b9-669adc002ff8",
   "metadata": {},
   "outputs": [],
   "source": [
    "# define base directories, if necessary\n",
    "# define subject/FOV/session/"
   ]
  },
  {
   "cell_type": "code",
   "execution_count": 1,
   "id": "63a631ec-a855-4956-b7b1-5762b176d457",
   "metadata": {},
   "outputs": [],
   "source": [
    "# match calcium imaging frames with DLC frames, extract all data in a nice structure\n",
    "# it doesn't have to have the actual calcium traces, the frame indices are enough, since we'll select the calcium traces in a next step, since probably this cell will be the slowest\n",
    "# should have the option for averaging/std calculation on variable windows, then downsampling\n",
    "# should have the option for excluding post-reward activity"
   ]
  },
  {
   "cell_type": "code",
   "execution_count": 2,
   "id": "5eeb5e39-65f9-49c6-8348-b14b21b8fe30",
   "metadata": {},
   "outputs": [],
   "source": [
    "# select neurons to predict based on their activity - e.g. exclude cells that have low activity, or include cells that have bit movement-triggered averages, and whatnot - Marton can do this"
   ]
  },
  {
   "cell_type": "code",
   "execution_count": null,
   "id": "b99ce955-9c84-4485-9b84-048ef74616cb",
   "metadata": {},
   "outputs": [],
   "source": [
    "# predict the activity of the selected neurons from DLC data"
   ]
  },
  {
   "cell_type": "code",
   "execution_count": null,
   "id": "c7532c4d-bc6f-4bbb-8943-a26d6770030a",
   "metadata": {},
   "outputs": [],
   "source": []
  },
  {
   "cell_type": "markdown",
   "id": "374913b7-6bad-42c3-89ae-cf29177e8e9a",
   "metadata": {},
   "source": [
    "# Comparison of day-to-day movements"
   ]
  },
  {
   "cell_type": "code",
   "execution_count": null,
   "id": "c11c050c-05f5-4fb3-89b7-fb9152d1cdf3",
   "metadata": {},
   "outputs": [],
   "source": [
    "# extract reward-triggered and go-cue triggered movements of a mouse for ALL sessions\n"
   ]
  },
  {
   "cell_type": "code",
   "execution_count": null,
   "id": "612cb1c9-412f-4d2a-bff0-86b9b8f4bc49",
   "metadata": {},
   "outputs": [],
   "source": [
    "# train a classifier to predict the session ID based on the movements. Can we do it?"
   ]
  }
 ],
 "metadata": {
  "environment": {
   "kernel": "python3",
   "name": "common-cu101.m84",
   "type": "gcloud",
   "uri": "gcr.io/deeplearning-platform-release/base-cu101:m84"
  },
  "kernelspec": {
   "display_name": "Python 3",
   "language": "python",
   "name": "python3"
  },
  "language_info": {
   "codemirror_mode": {
    "name": "ipython",
    "version": 3
   },
   "file_extension": ".py",
   "mimetype": "text/x-python",
   "name": "python",
   "nbconvert_exporter": "python",
   "pygments_lexer": "ipython3",
   "version": "3.7.12"
  }
 },
 "nbformat": 4,
 "nbformat_minor": 5
}
