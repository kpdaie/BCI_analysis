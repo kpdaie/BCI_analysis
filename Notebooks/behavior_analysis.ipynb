{
 "cells": [
  {
   "cell_type": "code",
   "execution_count": 59,
   "id": "a50d1ae3-499f-4ddb-9ebd-f70af2c2f0c4",
   "metadata": {},
   "outputs": [
    {
     "name": "stdout",
     "output_type": "stream",
     "text": [
      "2022/06/03 21:34:03.421744 Start gcsfuse/0.41.1 (Go version go1.17.6) for app \"\" using mount point: /home/jupyter/bucket\n",
      "2022/06/03 21:34:03.439084 Opening GCS connection...\n",
      "2022/06/03 21:34:03.596674 Mounting file system \"aind-transfer-service-test\"...\n",
      "daemonize.Run: readFromProcess: sub-process: mountWithArgs: mountWithConn: Mount: mount: running /usr/bin/fusermount: exit status 1\n"
     ]
    }
   ],
   "source": [
    "# Uses martons code to align dlc stuff with video. You can get all the DLC variables nicely in csv files in DLC/side folder\n",
    "!gcsfuse --implicit-dirs --only-dir marton.rozsa aind-transfer-service-test ./bucket"
   ]
  },
  {
   "cell_type": "code",
   "execution_count": 3,
   "id": "eb187154-2945-48db-9e80-5eb01d8629a1",
   "metadata": {},
   "outputs": [
    {
     "data": {
      "text/plain": [
       "'c:\\\\Users\\\\mohit.kulkarni\\\\Documents\\\\GitHub\\\\BCI_analysis\\\\Notebooks\\\\bucket\\\\Data\\\\Behavior\\\\BCI_exported\\\\Bergamo-2P-Photostim\\\\BCI_26\\\\040822-bpod_zaber.npy'"
      ]
     },
     "execution_count": 3,
     "metadata": {},
     "output_type": "execute_result"
    }
   ],
   "source": [
    "os.path.abspath(\"bucket/Data/Behavior/BCI_exported/Bergamo-2P-Photostim/BCI_2:q6/040822-bpod_zaber.npy\")"
   ]
  },
  {
   "cell_type": "code",
   "execution_count": null,
   "id": "7c456ebd",
   "metadata": {},
   "outputs": [],
   "source": [
    "import numpy "
   ]
  },
  {
   "cell_type": "code",
   "execution_count": 1,
   "id": "9244cee7-85d6-41d4-83ef-67c69c3a2e93",
   "metadata": {},
   "outputs": [
    {
     "name": "stdout",
     "output_type": "stream",
     "text": [
      "side camera video not found in trial 1\n",
      "side camera video not found in trial 4\n"
     ]
    },
    {
     "data": {
      "image/png": "[encoded data removed]",
      "text/plain": [
       "<Figure size 432x288 with 1 Axes>"
      ]
     },
     "metadata": {
      "needs_background": "light"
     },
     "output_type": "display_data"
    },
    {
     "name": "stdout",
     "output_type": "stream",
     "text": [
      "side camera video not found in trial 9\n",
      "side camera video not found in trial 11\n",
      "side camera video not found in trial 16\n",
      "side camera video not found in trial 18\n",
      "side camera video not found in trial 22\n",
      "side camera video not found in trial 25\n",
      "side camera video not found in trial 31\n",
      "side camera video not found in trial 32\n",
      "side camera video not found in trial 36\n",
      "side camera video not found in trial 39\n",
      "side camera video not found in trial 41\n",
      "side camera video not found in trial 46\n",
      "side camera video not found in trial 50\n",
      "side camera video not found in trial 54\n",
      "side camera video not found in trial 56\n",
      "side camera video not found in trial 61\n",
      "side camera video not found in trial 69\n",
      "side camera video not found in trial 70\n",
      "side camera video not found in trial 71\n",
      "side camera video not found in trial 73\n",
      "side camera video not found in trial 74\n",
      "side camera video not found in trial 75\n",
      "side camera video not found in trial 76\n",
      "side camera video not found in trial 77\n",
      "side camera video not found in trial 78\n",
      "side camera video not found in trial 79\n",
      "side camera video not found in trial 80\n",
      "side camera video not found in trial 81\n",
      "side camera video not found in trial 82\n",
      "side camera video not found in trial 83\n",
      "side camera video not found in trial 84\n",
      "side camera video not found in trial 85\n",
      "side camera video not found in trial 86\n",
      "side camera video not found in trial 87\n",
      "side camera video not found in trial 88\n",
      "side camera video not found in trial 89\n",
      "side camera video not found in trial 90\n",
      "side camera video not found in trial 91\n",
      "side camera video not found in trial 92\n",
      "side camera video not found in trial 93\n",
      "side camera video not found in trial 94\n",
      "side camera video not found in trial 95\n",
      "side camera video not found in trial 96\n",
      "side camera video not found in trial 97\n",
      "side camera video not found in trial 98\n",
      "side camera video not found in trial 99\n",
      "side camera video not found in trial 100\n",
      "side camera video not found in trial 101\n",
      "side camera video not found in trial 102\n",
      "side camera video not found in trial 103\n",
      "side camera video not found in trial 104\n",
      "side camera video not found in trial 105\n",
      "side camera video not found in trial 106\n",
      "side camera video not found in trial 107\n",
      "side camera video not found in trial 108\n",
      "side camera video not found in trial 109\n",
      "side camera video not found in trial 110\n",
      "side camera video not found in trial 111\n",
      "side camera video not found in trial 112\n",
      "side camera video not found in trial 113\n",
      "side camera video not found in trial 114\n",
      "side camera video not found in trial 115\n",
      "side camera video not found in trial 116\n",
      "side camera video not found in trial 117\n",
      "side camera video not found in trial 118\n",
      "side camera video not found in trial 119\n",
      "side camera video not found in trial 120\n",
      "side camera video not found in trial 121\n",
      "side camera video not found in trial 122\n",
      "side camera video not found in trial 123\n",
      "side camera video not found in trial 124\n",
      "side camera video not found in trial 125\n",
      "side camera video not found in trial 126\n",
      "side camera video not found in trial 127\n",
      "side camera video not found in trial 128\n",
      "side camera video not found in trial 129\n",
      "side camera video not found in trial 130\n",
      "side camera video not found in trial 131\n",
      "side camera video not found in trial 132\n",
      "side camera video not found in trial 133\n",
      "side camera video not found in trial 134\n",
      "side camera video not found in trial 135\n",
      "side camera video not found in trial 136\n",
      "side camera video not found in trial 137\n",
      "side camera video not found in trial 138\n",
      "side camera video not found in trial 139\n",
      "side camera video not found in trial 140\n",
      "side camera video not found in trial 141\n",
      "side camera video not found in trial 142\n",
      "side camera video not found in trial 143\n",
      "side camera video not found in trial 144\n",
      "side camera video not found in trial 145\n",
      "side camera video not found in trial 146\n",
      "side camera video not found in trial 147\n",
      "side camera video not found in trial 148\n",
      "side camera video not found in trial 149\n",
      "side camera video not found in trial 150\n",
      "side camera video not found in trial 151\n",
      "side camera video not found in trial 152\n",
      "side camera video not found in trial 153\n",
      "side camera video not found in trial 154\n",
      "side camera video not found in trial 155\n",
      "side camera video not found in trial 156\n",
      "side camera video not found in trial 157\n",
      "side camera video not found in trial 158\n",
      "side camera video not found in trial 159\n",
      "side camera video not found in trial 160\n",
      "side camera video not found in trial 161\n",
      "side camera video not found in trial 162\n",
      "side camera video not found in trial 163\n",
      "side camera video not found in trial 164\n",
      "side camera video not found in trial 165\n",
      "side camera video not found in trial 166\n",
      "side camera video not found in trial 167\n",
      "side camera video not found in trial 168\n",
      "side camera video not found in trial 169\n",
      "side camera video not found in trial 170\n",
      "side camera video not found in trial 171\n",
      "side camera video not found in trial 172\n",
      "side camera video not found in trial 173\n",
      "side camera video not found in trial 174\n",
      "side camera video not found in trial 175\n",
      "side camera video not found in trial 176\n",
      "side camera video not found in trial 177\n",
      "side camera video not found in trial 178\n",
      "side camera video not found in trial 179\n",
      "side camera video not found in trial 180\n",
      "side camera video not found in trial 181\n",
      "side camera video not found in trial 182\n",
      "side camera video not found in trial 183\n",
      "side camera video not found in trial 184\n",
      "side camera video not found in trial 185\n",
      "side camera video not found in trial 186\n",
      "side camera video not found in trial 187\n",
      "side camera video not found in trial 188\n",
      "side camera video not found in trial 189\n",
      "side camera video not found in trial 190\n",
      "side camera video not found in trial 191\n",
      "side camera video not found in trial 192\n",
      "side camera video not found in trial 193\n",
      "side camera video not found in trial 194\n",
      "side camera video not found in trial 195\n",
      "side camera video not found in trial 196\n",
      "side camera video not found in trial 197\n",
      "side camera video not found in trial 198\n",
      "side camera video not found in trial 199\n",
      "side camera video not found in trial 200\n",
      "side camera video not found in trial 201\n",
      "side camera video not found in trial 202\n",
      "side camera video not found in trial 203\n",
      "side camera video not found in trial 204\n",
      "side camera video not found in trial 205\n",
      "side camera video not found in trial 206\n",
      "side camera video not found in trial 207\n",
      "side camera video not found in trial 208\n",
      "side camera video not found in trial 209\n",
      "side camera video not found in trial 210\n",
      "side camera video not found in trial 211\n",
      "side camera video not found in trial 212\n",
      "side camera video not found in trial 213\n",
      "side camera video not found in trial 214\n",
      "side camera video not found in trial 215\n",
      "side camera video not found in trial 216\n",
      "side camera video not found in trial 217\n",
      "side camera video not found in trial 218\n",
      "side camera video not found in trial 219\n",
      "side camera video not found in trial 220\n",
      "side camera video not found in trial 221\n",
      "side camera video not found in trial 222\n",
      "side camera video not found in trial 223\n",
      "side camera video not found in trial 224\n",
      "side camera video not found in trial 225\n",
      "side camera video not found in trial 226\n",
      "side camera video not found in trial 227\n",
      "side camera video not found in trial 228\n",
      "side camera video not found in trial 229\n",
      "side camera video not found in trial 230\n",
      "side camera video not found in trial 231\n",
      "side camera video not found in trial 232\n",
      "side camera video not found in trial 233\n",
      "side camera video not found in trial 234\n",
      "side camera video not found in trial 235\n",
      "side camera video not found in trial 236\n",
      "side camera video not found in trial 237\n",
      "side camera video not found in trial 238\n",
      "side camera video not found in trial 239\n",
      "side camera video not found in trial 240\n",
      "side camera video not found in trial 241\n",
      "side camera video not found in trial 242\n",
      "side camera video not found in trial 243\n",
      "side camera video not found in trial 244\n",
      "side camera video not found in trial 245\n",
      "side camera video not found in trial 246\n",
      "side camera video not found in trial 247\n",
      "side camera video not found in trial 248\n",
      "side camera video not found in trial 249\n",
      "side camera video not found in trial 250\n",
      "side camera video not found in trial 251\n",
      "side camera video not found in trial 252\n",
      "side camera video not found in trial 253\n",
      "side camera video not found in trial 254\n",
      "side camera video not found in trial 255\n",
      "side camera video not found in trial 256\n",
      "side camera video not found in trial 257\n",
      "side camera video not found in trial 258\n",
      "side camera video not found in trial 259\n",
      "side camera video not found in trial 260\n",
      "side camera video not found in trial 261\n",
      "side camera video not found in trial 262\n",
      "side camera video not found in trial 263\n",
      "side camera video not found in trial 264\n",
      "side camera video not found in trial 265\n",
      "side camera video not found in trial 266\n",
      "side camera video not found in trial 267\n",
      "side camera video not found in trial 268\n",
      "side camera video not found in trial 269\n",
      "side camera video not found in trial 270\n",
      "side camera video not found in trial 271\n",
      "side camera video not found in trial 272\n",
      "side camera video not found in trial 273\n",
      "side camera video not found in trial 274\n",
      "side camera video not found in trial 275\n",
      "side camera video not found in trial 276\n",
      "side camera video not found in trial 277\n",
      "side camera video not found in trial 278\n",
      "side camera video not found in trial 279\n",
      "side camera video not found in trial 280\n",
      "side camera video not found in trial 281\n",
      "side camera video not found in trial 282\n",
      "side camera video not found in trial 283\n",
      "side camera video not found in trial 284\n",
      "side camera video not found in trial 285\n",
      "side camera video not found in trial 286\n",
      "side camera video not found in trial 287\n",
      "side camera video not found in trial 288\n",
      "side camera video not found in trial 289\n",
      "side camera video not found in trial 290\n",
      "side camera video not found in trial 291\n",
      "side camera video not found in trial 292\n",
      "side camera video not found in trial 293\n",
      "side camera video not found in trial 294\n",
      "side camera video not found in trial 295\n",
      "side camera video not found in trial 296\n",
      "side camera video not found in trial 297\n",
      "side camera video not found in trial 298\n",
      "side camera video not found in trial 299\n",
      "side camera video not found in trial 300\n",
      "side camera video not found in trial 301\n",
      "side camera video not found in trial 302\n",
      "side camera video not found in trial 303\n",
      "side camera video not found in trial 304\n"
     ]
    }
   ],
   "source": [
    "#%% load DLC traces and align to traces\n",
    "import numpy as np\n",
    "import os, json, re\n",
    "import pandas as pd\n",
    "import matplotlib.pyplot as plt\n",
    "dlc_base_dir = os.path.abspath('../bucket/Data/Behavior_videos/DLC_output/Bergamo-2P-Photostim/')\n",
    "camera = 'side'\n",
    "session_bpod_file = os.path.abspath(\"../bucket/Data/Behavior/BCI_exported/Bergamo-2P-Photostim/BCI_26/040822-bpod_zaber.npy\")\n",
    "\n",
    "behavior_dict = np.load(session_bpod_file,allow_pickle = True).tolist()\n",
    "behavior_video_list = behavior_dict['behavior_movie_name_list']\n",
    "for trial_i, video_files in enumerate(behavior_video_list):\n",
    "    if not type(video_files) == list:\n",
    "        if type(video_files) == str:\n",
    "            video_files = [video_files]\n",
    "        else:\n",
    "            video_files = video_files.tolist()\n",
    "    #%\n",
    "    for video_file_path in video_files:\n",
    "        video_found = False\n",
    "        video_file_path.strip(\"' \")\n",
    "        if camera in video_file_path:\n",
    "            video_found = True\n",
    "            break\n",
    "\n",
    "    if not video_found:\n",
    "        print('{} camera video not found in trial {}'.format(camera,trial_i))\n",
    "        continue\n",
    "\n",
    "    video_path,video_file = os.path.split(video_file_path)\n",
    "    video_path = video_path[video_path.find(camera)+len(camera)+1:]\n",
    "    dlc_files = os.listdir(os.path.join(dlc_base_dir,camera,video_path))\n",
    "    for dlc_file in dlc_files:\n",
    "        if video_file[:-5] in dlc_file:\n",
    "            if '.json' in dlc_file:\n",
    "                with open(os.path.join(dlc_base_dir,camera,video_path,dlc_file)) as f:\n",
    "                    trial_metadata = json.load(f)\n",
    "            elif '.csv' in dlc_file:\n",
    "                dlcdata = pd.read_csv(os.path.join(dlc_base_dir,camera,video_path,dlc_file),index_col = 0, header = None)\n",
    "                bodyparts = np.unique(dlcdata.loc['bodyparts'])\n",
    "                dlc_dict = {}\n",
    "                for bodypart in bodyparts:\n",
    "                    dlc_dict[bodypart] = dict()\n",
    "                for colname in dlcdata.keys():\n",
    "                    dlc_dict[dlcdata[colname]['bodyparts']][dlcdata[colname]['coords']] = np.asarray(dlcdata[colname][3:].values,float)\n",
    "                \n",
    "            \n",
    "            # break\n",
    "    if trial_i == 6:\n",
    "        video_frame_times  = np.asarray(trial_metadata['frame_times'])#+.05\n",
    "        fig = plt.figure()\n",
    "        ax_lickport = fig.add_subplot(1,1,1)\n",
    "        ax_lickport.plot(video_frame_times,dlc_dict['Lickport']['x'],'r-',label = 'lickport X position (DLC)')\n",
    "        lickport_steps = behavior_dict['zaber_move_forward'][trial_i]\n",
    "        ax_lickport.plot(lickport_steps, np.zeros_like(lickport_steps)+250,'k|')\n",
    "        plt.legend()\n",
    "        plt.show(block=False)\n",
    "# break"
   ]
  },
  {
   "cell_type": "code",
   "execution_count": 206,
   "id": "2cff245c",
   "metadata": {},
   "outputs": [],
   "source": [
    "dlc_base_dir = os.path.abspath('../bucket/Data/Behavior_videos/DLC_output/Bergamo-2P-Photostim/side/bci26/2022-04-10_10-44-50')\n",
    "frame_lens = []\n",
    "trial_list = []\n",
    "for dlc_file in next(os.walk(dlc_base_dir))[2]:\n",
    "    if dlc_file[-4:] == \"json\":\n",
    "        with open(os.path.join(dlc_base_dir, dlc_file)) as f:\n",
    "            trial_metadata = json.load(f)\n",
    "            try:\n",
    "                frame_lens.append(len(trial_metadata['frame_times']))\n",
    "            except:\n",
    "                continue\n",
    "            trial_list.append(dlc_file)\n",
    "frame_lens = np.asarray(frame_lens)\n",
    "trial_list = np.asarray(trial_list)\n",
    "accept_trials = frame_lens>500\n",
    "trial_nums = [k.split(\"_\")[1] for k in trial_list[accept_trials]]\n",
    "\n",
    "csv_files = [k for k in next(os.walk(dlc_base_dir))[2] if k.endswith(\"csv\")]\n",
    "csv_files = [k for k in csv_files if k.split(\"_\")[1] in trial_nums]\n",
    "\n",
    "# session_dlc_data = pd.concat([pd.read_csv(os.path.join(dlc_base_dir, f), header=[1,2], index_col=0) for f in csv_files], ignore_index=True)\n",
    "\n"
   ]
  },
  {
   "cell_type": "code",
   "execution_count": 257,
   "id": "cc485645",
   "metadata": {},
   "outputs": [
    {
     "data": {
      "text/plain": [
       "28.30876776683431"
      ]
     },
     "execution_count": 257,
     "metadata": {},
     "output_type": "execute_result"
    }
   ],
   "source": [
    "F.shape[1]/(ca_data['trial_start_times'][-1] - ca_data['trial_start_times'][0]).total_seconds()"
   ]
  },
  {
   "cell_type": "code",
   "execution_count": 225,
   "id": "64551145-da0b-4c9e-b08e-80210cd3f0cd",
   "metadata": {},
   "outputs": [],
   "source": [
    "ft = []\n",
    "for i in range(len(csv_files)):\n",
    "    trial_dlc_data = pd.read_csv(os.path.join(dlc_base_dir, csv_files[i]), header=[1,2], index_col=0)\n",
    "    with open(os.path.join(dlc_base_dir, trial_list[i])) as f:\n",
    "        trial_metadata = json.load(f)\n",
    "    frame_times = trial_metadata['frame_times']\n",
    "    ft.append(frame_times)"
   ]
  },
  {
   "cell_type": "code",
   "execution_count": 237,
   "id": "66942624",
   "metadata": {},
   "outputs": [],
   "source": [
    "fs = [len(ft[i])/ca_data['trial_times'][i] for i in range(len(ft))]"
   ]
  },
  {
   "cell_type": "code",
   "execution_count": 258,
   "id": "db2cf0b8",
   "metadata": {},
   "outputs": [
    {
     "data": {
      "text/plain": [
       "[<matplotlib.lines.Line2D at 0x1cdf1e35b50>]"
      ]
     },
     "execution_count": 258,
     "metadata": {},
     "output_type": "execute_result"
    },
    {
     "data": {
      "image/png": "[encoded data removed]",
      "text/plain": [
       "<Figure size 432x288 with 1 Axes>"
      ]
     },
     "metadata": {
      "needs_background": "light"
     },
     "output_type": "display_data"
    }
   ],
   "source": [
    "plt.plot(fs)\n",
    "# plt.ylim([0, 1000])"
   ]
  },
  {
   "cell_type": "code",
   "execution_count": 259,
   "id": "2e626b8f",
   "metadata": {},
   "outputs": [],
   "source": [
    "ca_data_path = os.path.abspath(\"../bucket/Data/Calcium_imaging/sessionwise_tba/BCI_26/BCI_26-041022-FOV_04.npy\")\n",
    "fl = os.path.abspath(\"../bucket/Data/Calcium_imaging/sessionwise_tba/BCI_26/filelist.json\")\n",
    "with open(fl) as f:\n",
    "    filelist = json.load(f)\n",
    "\n",
    "camera = \"side\"\n",
    "mouse = \"bci26\"\n",
    "\n",
    "# for session_name in next(os.walk(DLC_path))[1]:\n",
    "ca_data = np.load(ca_data_path, allow_pickle=True).tolist()\n",
    "F = ca_data[\"F_sessionwise\"]\n",
    "F_tw = ca_data['F_trialwise_closed_loop']\n",
    "cni = ca_data[\"cn\"][0]\n"
   ]
  },
  {
   "cell_type": "code",
   "execution_count": 267,
   "id": "7c9b803c",
   "metadata": {},
   "outputs": [
    {
     "data": {
      "text/plain": [
       "<matplotlib.collections.PathCollection at 0x1cdf121bf70>"
      ]
     },
     "execution_count": 267,
     "metadata": {},
     "output_type": "execute_result"
    },
    {
     "data": {
      "image/png": "[encoded data removed]",
      "text/plain": [
       "<Figure size 432x288 with 1 Axes>"
      ]
     },
     "metadata": {
      "needs_background": "light"
     },
     "output_type": "display_data"
    }
   ],
   "source": [
    "f_list = np.array([200, 200, 176, 200, 200,  96, 200,  91, 200, 200, 200, 200, 200,\n",
    "       200, 168, 238, 162, 204, 173, 158, 195, 159, 250, 246, 237, 194,\n",
    "       231, 219, 210, 555, 231, 161, 211, 251, 482, 256, 241, 179, 269,\n",
    "       181, 123, 368, 216, 260, 214, 321, 158, 155, 407, 245, 144, 106,\n",
    "       229, 290, 236, 202, 195, 147, 235, 237, 246, 110, 313, 178, 266,\n",
    "       397, 157, 196, 203, 225, 203, 237])\n",
    "\n",
    "k = [len(ft[i]) for i in range(len(f_list))]\n",
    "plt.scatter(k, f_list)"
   ]
  },
  {
   "cell_type": "code",
   "execution_count": 195,
   "id": "00c96952",
   "metadata": {},
   "outputs": [
    {
     "data": {
      "text/plain": [
       "[<matplotlib.lines.Line2D at 0x1cd7d394880>]"
      ]
     },
     "execution_count": 195,
     "metadata": {},
     "output_type": "execute_result"
    },
    {
     "data": {
      "image/png": "[encoded data removed]",
      "text/plain": [
       "<Figure size 432x288 with 1 Axes>"
      ]
     },
     "metadata": {
      "needs_background": "light"
     },
     "output_type": "display_data"
    }
   ],
   "source": [
    "trial_start_times = np.asarray([ca_data[\"trial_start_times\"][i].timestamp() for i in range(len(ca_data['trial_start_times']))])\n",
    "tst_rel = np.asarray(np.cumsum(ca_data[\"trial_times\"]).tolist())\n",
    "plt.plot(trial_start_times, np.arange(len(trial_start_times)), 'k|')\n",
    "plt.plot(tst_rel+ trial_start_times[0], np.arange(len(tst_rel)), 'r|')\n"
   ]
  },
  {
   "cell_type": "code",
   "execution_count": 196,
   "id": "06e15131",
   "metadata": {},
   "outputs": [
    {
     "data": {
      "text/plain": [
       "array([1.64958777e+09, 1.64958779e+09, 1.64958781e+09, ...,\n",
       "       1.65006038e+09, 1.65006040e+09, 1.65006042e+09])"
      ]
     },
     "execution_count": 196,
     "metadata": {},
     "output_type": "execute_result"
    }
   ],
   "source": [
    "trial_start_times[0] + np.arange(0, F.shape[1], 1)*ca_data[\"sampling_rate\"]"
   ]
  },
  {
   "cell_type": "code",
   "execution_count": 236,
   "id": "4eeefd9c",
   "metadata": {},
   "outputs": [
    {
     "data": {
      "text/plain": [
       "[11.179384,\n",
       " 7.291786,\n",
       " 9.4441,\n",
       " 7.868652,\n",
       " 7.022835,\n",
       " 9.011783,\n",
       " 7.125729,\n",
       " 11.836637,\n",
       " 11.627173,\n",
       " 11.179262,\n",
       " 8.946187,\n",
       " 10.856868,\n",
       " 10.248462,\n",
       " 9.773566,\n",
       " 27.576032,\n",
       " 10.823042,\n",
       " 7.2572,\n",
       " 9.809711,\n",
       " 11.884023,\n",
       " 23.776632,\n",
       " 12.128236,\n",
       " 11.405626,\n",
       " 8.134934,\n",
       " 12.807076,\n",
       " 8.259468,\n",
       " 5.318996,\n",
       " 17.919219,\n",
       " 10.088416,\n",
       " 12.348742,\n",
       " 9.966451,\n",
       " 15.516889,\n",
       " 7.062559,\n",
       " 6.965146,\n",
       " 19.909191,\n",
       " 11.558144,\n",
       " 6.396441,\n",
       " 4.421862,\n",
       " 10.786134,\n",
       " 13.898998,\n",
       " 11.074693,\n",
       " 9.353704,\n",
       " 9.01511,\n",
       " 6.504837,\n",
       " 11.114098,\n",
       " 11.15546,\n",
       " 11.624986,\n",
       " 4.616165,\n",
       " 15.095451,\n",
       " 8.137966,\n",
       " 12.629887,\n",
       " 19.377582,\n",
       " 7.063355,\n",
       " 9.058841,\n",
       " 9.437527,\n",
       " 10.565373,\n",
       " 9.404383,\n",
       " 11.179347,\n",
       " 11.971996,\n",
       " 15.689506,\n",
       " 11.179937,\n",
       " 9.37592,\n",
       " 7.021042,\n",
       " 5.176085,\n",
       " 7.731523,\n",
       " 8.263298,\n",
       " 7.625516,\n",
       " 8.715322,\n",
       " 9.961921,\n",
       " 11.18016,\n",
       " 7.597006,\n",
       " 32.755955,\n",
       " 14.554422,\n",
       " 1.523844]"
      ]
     },
     "execution_count": 236,
     "metadata": {},
     "output_type": "execute_result"
    }
   ],
   "source": [
    "ca_data['trial_times']"
   ]
  },
  {
   "cell_type": "code",
   "execution_count": 113,
   "id": "f7b2e82f-fa6a-4fa9-a319-011696ec89b1",
   "metadata": {},
   "outputs": [
    {
     "ename": "StopIteration",
     "evalue": "",
     "output_type": "error",
     "traceback": [
      "\u001b[1;31m---------------------------------------------------------------------------\u001b[0m",
      "\u001b[1;31mStopIteration\u001b[0m                             Traceback (most recent call last)",
      "\u001b[1;32mc:\\Users\\mohit.kulkarni\\Documents\\GitHub\\BCI_analysis\\Notebooks\\behavior_analysis.ipynb Cell 10'\u001b[0m in \u001b[0;36m<cell line: 14>\u001b[1;34m()\u001b[0m\n\u001b[0;32m     <a href='vscode-notebook-cell:/c%3A/Users/mohit.kulkarni/Documents/GitHub/BCI_analysis/Notebooks/behavior_analysis.ipynb#ch0000006?line=14'>15</a>\u001b[0m session_path \u001b[39m=\u001b[39m os\u001b[39m.\u001b[39mpath\u001b[39m.\u001b[39mjoin(DLC_path, session_name)\n\u001b[0;32m     <a href='vscode-notebook-cell:/c%3A/Users/mohit.kulkarni/Documents/GitHub/BCI_analysis/Notebooks/behavior_analysis.ipynb#ch0000006?line=15'>16</a>\u001b[0m session_date \u001b[39m=\u001b[39m session_name\u001b[39m.\u001b[39msplit(\u001b[39m\"\u001b[39m\u001b[39m_\u001b[39m\u001b[39m\"\u001b[39m)[\u001b[39m0\u001b[39m]\u001b[39m.\u001b[39mreplace(\u001b[39m\"\u001b[39m\u001b[39m-\u001b[39m\u001b[39m\"\u001b[39m, \u001b[39m\"\u001b[39m\u001b[39m\"\u001b[39m)[\u001b[39m4\u001b[39m:] \u001b[39m+\u001b[39m \u001b[39m\"\u001b[39m\u001b[39m22\u001b[39m\u001b[39m\"\u001b[39m\n\u001b[1;32m---> <a href='vscode-notebook-cell:/c%3A/Users/mohit.kulkarni/Documents/GitHub/BCI_analysis/Notebooks/behavior_analysis.ipynb#ch0000006?line=17'>18</a>\u001b[0m ca_data_path \u001b[39m=\u001b[39m os\u001b[39m.\u001b[39mpath\u001b[39m.\u001b[39mjoin(data_path, [k \u001b[39mfor\u001b[39;00m k \u001b[39min\u001b[39;00m \u001b[39mnext\u001b[39;49m(os\u001b[39m.\u001b[39;49mwalk(data_path))[\u001b[39m2\u001b[39m] \u001b[39mif\u001b[39;00m session_date \u001b[39min\u001b[39;00m k][\u001b[39m0\u001b[39m])\n\u001b[0;32m     <a href='vscode-notebook-cell:/c%3A/Users/mohit.kulkarni/Documents/GitHub/BCI_analysis/Notebooks/behavior_analysis.ipynb#ch0000006?line=18'>19</a>\u001b[0m bodyparts \u001b[39m=\u001b[39m [\u001b[39m\"\u001b[39m\u001b[39mPole\u001b[39m\u001b[39m\"\u001b[39m, \u001b[39m\"\u001b[39m\u001b[39mLickport\u001b[39m\u001b[39m\"\u001b[39m, \u001b[39m\"\u001b[39m\u001b[39mPawL\u001b[39m\u001b[39m\"\u001b[39m, \u001b[39m\"\u001b[39m\u001b[39mPawR\u001b[39m\u001b[39m\"\u001b[39m, \u001b[39m\"\u001b[39m\u001b[39mNoseTip\u001b[39m\u001b[39m\"\u001b[39m, \u001b[39m\"\u001b[39m\u001b[39mJaw\u001b[39m\u001b[39m\"\u001b[39m, \u001b[39m\"\u001b[39m\u001b[39mEyeUp\u001b[39m\u001b[39m\"\u001b[39m, \u001b[39m\"\u001b[39m\u001b[39mEyeDown\u001b[39m\u001b[39m\"\u001b[39m, \u001b[39m\"\u001b[39m\u001b[39mEyeLeft\u001b[39m\u001b[39m\"\u001b[39m, \u001b[39m\"\u001b[39m\u001b[39mEyeRight\u001b[39m\u001b[39m\"\u001b[39m, \u001b[39m\"\u001b[39m\u001b[39mTongueTip\u001b[39m\u001b[39m\"\u001b[39m, \u001b[39m\"\u001b[39m\u001b[39mTongueMid\u001b[39m\u001b[39m\"\u001b[39m]\n\u001b[0;32m     <a href='vscode-notebook-cell:/c%3A/Users/mohit.kulkarni/Documents/GitHub/BCI_analysis/Notebooks/behavior_analysis.ipynb#ch0000006?line=19'>20</a>\u001b[0m trial_list \u001b[39m=\u001b[39m [k \u001b[39mfor\u001b[39;00m k \u001b[39min\u001b[39;00m \u001b[39mnext\u001b[39m(os\u001b[39m.\u001b[39mwalk(session_path))[\u001b[39m2\u001b[39m] \u001b[39mif\u001b[39;00m k\u001b[39m.\u001b[39mendswith(\u001b[39m\"\u001b[39m\u001b[39mcsv\u001b[39m\u001b[39m\"\u001b[39m)]\n",
      "\u001b[1;31mStopIteration\u001b[0m: "
     ]
    }
   ],
   "source": [
    "import os\n",
    "import pandas as pd\n",
    "import numpy as np\n",
    "import statsmodels.api as sm\n",
    "DLC_dir = \"/home/jupyter/bucket/Data/Behavior_videos/DLC_output/Bergamo-2P-Photostim/\"\n",
    "data_path = \"bucket/Data/Calcium_imaging/sessionwise_tba\"\n",
    "camera = \"side\"\n",
    "mouse = \"bci26\"\n",
    "\n",
    "data_path = os.path.join(data_path, \"BCI_26\")\n",
    "DLC_path = os.path.join(DLC_dir, camera, mouse)\n",
    "\n",
    "# for session_name in next(os.walk(DLC_path))[1]:\n",
    "for session_name in [\"2022-04-12_11-01-11\"]:\n",
    "    session_path = os.path.join(DLC_path, session_name)\n",
    "    session_date = session_name.split(\"_\")[0].replace(\"-\", \"\")[4:] + \"22\"\n",
    "    \n",
    "    ca_data_path = os.path.join(data_path, [k for k in next(os.walk(data_path))[2] if session_date in k][0])\n",
    "    bodyparts = [\"Pole\", \"Lickport\", \"PawL\", \"PawR\", \"NoseTip\", \"Jaw\", \"EyeUp\", \"EyeDown\", \"EyeLeft\", \"EyeRight\", \"TongueTip\", \"TongueMid\"]\n",
    "    trial_list = [k for k in next(os.walk(session_path))[2] if k.endswith(\"csv\")]\n",
    "    ca_data = np.load(ca_data_path, allow_pickle=True).tolist()\n",
    "    F = ca_data[\"F_sessionwise\"]\n",
    "    cni = ca_data[\"cn\"][0]\n",
    "    \n",
    "    \n",
    "    # for trial in trial_list:\n",
    "#         csvfile = pd.read_csv(os.path.join(session_path, trial), header=[1,2], index_col=0)\n",
    "#         # for bp in bodyparts:\n",
    "#         X = csvfile[\"Pole\"][[\"x\"]]\n",
    "#         # X = (X-np.mean(X, axis=0))/np.mean(X, axis=0)\n",
    "#         x = pd.Series(PCA(n_components=1).fit_transform(X).flatten())\n",
    "#         # x = (x - np.min(x))/np.min(x)\n",
    "\n",
    "#         X = X[::20]\n",
    "#         x = x[::20]\n",
    "#         y = ca_data[\"F_trialwise_closed_loop\"][: , cni, 0].flatten()[:X.shape[0]]\n",
    "\n",
    "#         plt.plot(X, label=[\"X\", \"Y\"])\n",
    "#         # plt.plot(x, label=[\"1st PC\"])\n",
    "#         # plt.title(bp)\n",
    "#     plt.show()\n",
    "#     break"
   ]
  },
  {
   "cell_type": "code",
   "execution_count": 445,
   "id": "cc688138-8c6f-42e8-a135-13c66e36bcc9",
   "metadata": {},
   "outputs": [],
   "source": [
    "import os\n",
    "import pandas as pd\n",
    "import numpy as np\n",
    "from sklearn.linear_model import LinearRegression\n",
    "\n",
    "\n",
    "DLC_dir = \"/home/jupyter/bucket/Data/Behavior_videos/DLC_output/Bergamo-2P-Photostim/\"\n",
    "npy_data_dir = \"bucket/Data/Calcium_imaging/sessionwise_tba\"\n",
    "camera = \"side\"\n",
    "mouse = \"BCI_26\"\n",
    "\n",
    "npy_data_dir = os.path.join(npy_data_dir, mouse)\n",
    "DLC_path = os.path.join(DLC_dir, camera, mouse.lower().replace(\"_\", \"\"))\n",
    "\n",
    "# for session_name in next(os.walk(DLC_path))[1]:\n",
    "for session_name in [\"2022-04-12_11-01-11\"]:\n",
    "    session_path = os.path.join(DLC_path, session_name)\n",
    "    session_date = session_name.split(\"_\")[0].replace(\"-\", \"\")[4:] + \"22\"\n",
    "    sess_list = [k for k in next(os.walk(npy_data_dir))[2] if session_date in k]\n",
    "    if sess_list is None:\n",
    "        print(f\"No npy file found for session date {session_date}\")\n",
    "        continue\n",
    "        \n",
    "    # for sess in sess_list:\n",
    "    npy_data_path = os.path.join(npy_data_dir, sess_list[0])\n",
    "    ca_data = np.load(npy_data_path, allow_pickle=True).tolist()\n",
    "    \n",
    "    #-------Get required variables from npy file---------\n",
    "    F = ca_data[\"F_sessionwise\"]\n",
    "    F_tw = ca_data[\"F_trialwise_closed_loop\"]\n",
    "    cn = ca_data[\"cn\"]\n",
    "    fs = ca_data[\"sampling_rate\"]\n",
    "    #----------------------------------------------------\n",
    "    \n",
    "    trial_list = [k for k in next(os.walk(session_path))[2] if k.endswith(\"csv\")]\n",
    "    session_dlc_data = pd.concat([pd.read_csv(os.path.join(session_path, f), header=[1,2], index_col=0) for f in trial_list], ignore_index=True)\n",
    "#     for dlc_var in session_dlc_data.columns:\n",
    "#         if dlc_var[1] == 'likelihood':\n",
    "#             print(dlc_var)\n",
    "#             session_dlc_data.drop(index=dlc_var)\n",
    "    session_dlc_data.drop('likelihood', level=1, axis=1, inplace=True)\n",
    "    n_samples = session_dlc_data.shape[0]\n",
    "    n_features = session_dlc_data.shape[1]\n",
    "    \n",
    "    max_index = n_samples//(n_features*int(fs))*n_features*int(fs)\n",
    "    headers = session_dlc_data.keys()\n",
    "    session_dlc_data = session_dlc_data[:max_index].values.reshape(-1, int(fs), n_features).mean(axis=1)\n",
    "    n_samples = session_dlc_data.shape[0]\n",
    "    \n",
    "    F = F[:, :n_samples]\n",
    "    beta_vals = np.zeros((F.shape[0], n_features))\n",
    "    scores = []\n",
    "    for neuron in range(F.shape[0]):\n",
    "        lr = LinearRegression()\n",
    "        lr.fit(session_dlc_data, F[neuron])\n",
    "        scores.append(lr.score(session_dlc_data, F[neuron]))\n",
    "        beta_vals[neuron] = lr.coef_\n",
    "        \n"
   ]
  },
  {
   "cell_type": "code",
   "execution_count": 459,
   "id": "5b4f2527-7f94-4914-89ef-af2f2bb89ad9",
   "metadata": {},
   "outputs": [
    {
     "data": {
      "image/png": "[encoded data removed]",
      "text/plain": [
       "<Figure size 432x288 with 1 Axes>"
      ]
     },
     "metadata": {
      "needs_background": "light"
     },
     "output_type": "display_data"
    }
   ],
   "source": [
    "plt.hist(scores, bins=100)\n",
    "plt.title(\"Linear regeression scores, each neuron fitted to behavior data\")\n",
    "plt.show()"
   ]
  },
  {
   "cell_type": "code",
   "execution_count": 338,
   "id": "e4dff5a3-55ef-434e-a1ef-169b1deb8d34",
   "metadata": {},
   "outputs": [
    {
     "data": {
      "text/plain": [
       "(352, 2)"
      ]
     },
     "execution_count": 338,
     "metadata": {},
     "output_type": "execute_result"
    }
   ],
   "source": [
    "csvfile[\"Pole\"][[\"x\", \"y\"]][::int(fs)].shape"
   ]
  },
  {
   "cell_type": "code",
   "execution_count": 339,
   "id": "a88409cd-7541-4c3b-8f38-683033e23d7e",
   "metadata": {},
   "outputs": [],
   "source": [
    "F_tw = ca_data[\"F_trialwise_closed_loop\"]"
   ]
  },
  {
   "cell_type": "code",
   "execution_count": 340,
   "id": "4e8f6cba-c607-48b5-9e56-5ce13d062cf4",
   "metadata": {},
   "outputs": [],
   "source": [
    "csvfiles = pd.concat([pd.read_csv(os.path.join(session_path, f), header=[1,2], index_col=0) for f in trial_list], ignore_index=True)"
   ]
  },
  {
   "cell_type": "code",
   "execution_count": 349,
   "id": "6169af78-cc24-44b3-b308-5a17130a36ab",
   "metadata": {},
   "outputs": [],
   "source": [
    "n_features = csvfiles.shape[1]\n",
    "n_samples = csvfiles.shape[0]\n",
    "max_index = n_samples//(n_features*int(fs))*n_features*int(fs)\n",
    "\n",
    "session_dlc = csvfiles[:max_index].values.reshape(-1, int(fs), n_features).mean(axis=1)\n",
    "n_samples = session_dlc.shape[0]\n",
    "\n",
    "F_sliced = F[:, :n_samples].T"
   ]
  },
  {
   "cell_type": "code",
   "execution_count": 350,
   "id": "f3996b1c-6924-4eca-8c8c-b34f2cfe5d0d",
   "metadata": {},
   "outputs": [
    {
     "data": {
      "text/plain": [
       "(26208, 813)"
      ]
     },
     "execution_count": 350,
     "metadata": {},
     "output_type": "execute_result"
    }
   ],
   "source": [
    "F_sliced.shape"
   ]
  },
  {
   "cell_type": "code",
   "execution_count": 351,
   "id": "a1334087-c71a-4b94-9b9e-bbbc73e76062",
   "metadata": {},
   "outputs": [
    {
     "data": {
      "text/plain": [
       "LinearRegression()"
      ]
     },
     "execution_count": 351,
     "metadata": {},
     "output_type": "execute_result"
    }
   ],
   "source": [
    "from sklearn.linear_model import LinearRegression\n",
    "from sklearn.linear_model import Ridge\n",
    "\n",
    "lr = LinearRegression()\n",
    "rd = Ridge(alpha=0.5)\n",
    "\n",
    "rd.fit(session_dlc, F_sliced)\n",
    "lr.fit(session_dlc, F_sliced)"
   ]
  },
  {
   "cell_type": "code",
   "execution_count": 352,
   "id": "52dab79a-bf05-44c6-b709-00e28da64b09",
   "metadata": {},
   "outputs": [
    {
     "name": "stdout",
     "output_type": "stream",
     "text": [
      "0.022717350493923923\n",
      "0.02397760075171415\n"
     ]
    }
   ],
   "source": [
    "print(rd.score(session_dlc, F_sliced))\n",
    "print(lr.score(session_dlc, F_sliced))"
   ]
  },
  {
   "cell_type": "code",
   "execution_count": 443,
   "id": "dc400608-d4d6-48e1-bfbb-77ffbdf5a876",
   "metadata": {},
   "outputs": [
    {
     "data": {
      "text/plain": [
       "(813, 36)"
      ]
     },
     "execution_count": 443,
     "metadata": {},
     "output_type": "execute_result"
    }
   ],
   "source": [
    "lr.coef_.shape"
   ]
  },
  {
   "cell_type": "code",
   "execution_count": 355,
   "id": "b949e21f-d27c-49d7-a3a0-a9299c46f9b9",
   "metadata": {},
   "outputs": [
    {
     "data": {
      "image/png": "[encoded data removed]",
      "text/plain": [
       "<Figure size 432x288 with 1 Axes>"
      ]
     },
     "metadata": {
      "needs_background": "light"
     },
     "output_type": "display_data"
    }
   ],
   "source": [
    "plt.plot(F_sliced)\n",
    "plt.plot(X_hat)\n",
    "plt.xlim([1000, 2000])\n",
    "plt.show()"
   ]
  },
  {
   "cell_type": "code",
   "execution_count": 347,
   "id": "ebc191ae-dd50-443e-a181-2e8e67d1c69a",
   "metadata": {},
   "outputs": [
    {
     "ename": "ValueError",
     "evalue": "Found input variables with inconsistent numbers of samples: [334, 240]",
     "output_type": "error",
     "traceback": [
      "\u001b[0;31m---------------------------------------------------------------------------\u001b[0m",
      "\u001b[0;31mValueError\u001b[0m                                Traceback (most recent call last)",
      "\u001b[0;32m/tmp/ipykernel_3091/2690947515.py\u001b[0m in \u001b[0;36m<module>\u001b[0;34m\u001b[0m\n\u001b[1;32m     19\u001b[0m \u001b[0;34m\u001b[0m\u001b[0m\n\u001b[1;32m     20\u001b[0m \u001b[0mcv\u001b[0m \u001b[0;34m=\u001b[0m \u001b[0mRepeatedKFold\u001b[0m\u001b[0;34m(\u001b[0m\u001b[0mn_splits\u001b[0m\u001b[0;34m=\u001b[0m\u001b[0;36m10\u001b[0m\u001b[0;34m,\u001b[0m \u001b[0mn_repeats\u001b[0m\u001b[0;34m=\u001b[0m\u001b[0;36m3\u001b[0m\u001b[0;34m,\u001b[0m \u001b[0mrandom_state\u001b[0m\u001b[0;34m=\u001b[0m\u001b[0;36m100\u001b[0m\u001b[0;34m)\u001b[0m\u001b[0;34m\u001b[0m\u001b[0;34m\u001b[0m\u001b[0m\n\u001b[0;32m---> 21\u001b[0;31m \u001b[0mscores\u001b[0m \u001b[0;34m=\u001b[0m \u001b[0mcross_val_score\u001b[0m\u001b[0;34m(\u001b[0m\u001b[0mmodel\u001b[0m\u001b[0;34m,\u001b[0m \u001b[0mX\u001b[0m\u001b[0;34m,\u001b[0m \u001b[0my\u001b[0m\u001b[0;34m,\u001b[0m \u001b[0mscoring\u001b[0m\u001b[0;34m=\u001b[0m\u001b[0;34m'neg_mean_absolute_error'\u001b[0m\u001b[0;34m,\u001b[0m \u001b[0mcv\u001b[0m\u001b[0;34m=\u001b[0m\u001b[0mcv\u001b[0m\u001b[0;34m,\u001b[0m \u001b[0mn_jobs\u001b[0m\u001b[0;34m=\u001b[0m\u001b[0;34m-\u001b[0m\u001b[0;36m1\u001b[0m\u001b[0;34m)\u001b[0m\u001b[0;34m\u001b[0m\u001b[0;34m\u001b[0m\u001b[0m\n\u001b[0m\u001b[1;32m     22\u001b[0m \u001b[0mscores\u001b[0m \u001b[0;34m=\u001b[0m \u001b[0mnp\u001b[0m\u001b[0;34m.\u001b[0m\u001b[0mabs\u001b[0m\u001b[0;34m(\u001b[0m\u001b[0mscores\u001b[0m\u001b[0;34m)\u001b[0m\u001b[0;34m\u001b[0m\u001b[0;34m\u001b[0m\u001b[0m\n\u001b[1;32m     23\u001b[0m \u001b[0mprint\u001b[0m\u001b[0;34m(\u001b[0m\u001b[0;34m'Mean MAE: %.3f (%.3f)'\u001b[0m \u001b[0;34m%\u001b[0m \u001b[0;34m(\u001b[0m\u001b[0mnp\u001b[0m\u001b[0;34m.\u001b[0m\u001b[0mmean\u001b[0m\u001b[0;34m(\u001b[0m\u001b[0mscores\u001b[0m\u001b[0;34m)\u001b[0m\u001b[0;34m,\u001b[0m\u001b[0mnp\u001b[0m\u001b[0;34m.\u001b[0m\u001b[0mstd\u001b[0m\u001b[0;34m(\u001b[0m\u001b[0mscores\u001b[0m\u001b[0;34m)\u001b[0m\u001b[0;34m)\u001b[0m\u001b[0;34m)\u001b[0m\u001b[0;34m\u001b[0m\u001b[0;34m\u001b[0m\u001b[0m\n",
      "\u001b[0;32m/opt/conda/lib/python3.7/site-packages/sklearn/model_selection/_validation.py\u001b[0m in \u001b[0;36mcross_val_score\u001b[0;34m(estimator, X, y, groups, scoring, cv, n_jobs, verbose, fit_params, pre_dispatch, error_score)\u001b[0m\n\u001b[1;32m    518\u001b[0m         \u001b[0mfit_params\u001b[0m\u001b[0;34m=\u001b[0m\u001b[0mfit_params\u001b[0m\u001b[0;34m,\u001b[0m\u001b[0;34m\u001b[0m\u001b[0;34m\u001b[0m\u001b[0m\n\u001b[1;32m    519\u001b[0m         \u001b[0mpre_dispatch\u001b[0m\u001b[0;34m=\u001b[0m\u001b[0mpre_dispatch\u001b[0m\u001b[0;34m,\u001b[0m\u001b[0;34m\u001b[0m\u001b[0;34m\u001b[0m\u001b[0m\n\u001b[0;32m--> 520\u001b[0;31m         \u001b[0merror_score\u001b[0m\u001b[0;34m=\u001b[0m\u001b[0merror_score\u001b[0m\u001b[0;34m,\u001b[0m\u001b[0;34m\u001b[0m\u001b[0;34m\u001b[0m\u001b[0m\n\u001b[0m\u001b[1;32m    521\u001b[0m     )\n\u001b[1;32m    522\u001b[0m     \u001b[0;32mreturn\u001b[0m \u001b[0mcv_results\u001b[0m\u001b[0;34m[\u001b[0m\u001b[0;34m\"test_score\"\u001b[0m\u001b[0;34m]\u001b[0m\u001b[0;34m\u001b[0m\u001b[0;34m\u001b[0m\u001b[0m\n",
      "\u001b[0;32m/opt/conda/lib/python3.7/site-packages/sklearn/model_selection/_validation.py\u001b[0m in \u001b[0;36mcross_validate\u001b[0;34m(estimator, X, y, groups, scoring, cv, n_jobs, verbose, fit_params, pre_dispatch, return_train_score, return_estimator, error_score)\u001b[0m\n\u001b[1;32m    251\u001b[0m \u001b[0;34m\u001b[0m\u001b[0m\n\u001b[1;32m    252\u001b[0m     \"\"\"\n\u001b[0;32m--> 253\u001b[0;31m     \u001b[0mX\u001b[0m\u001b[0;34m,\u001b[0m \u001b[0my\u001b[0m\u001b[0;34m,\u001b[0m \u001b[0mgroups\u001b[0m \u001b[0;34m=\u001b[0m \u001b[0mindexable\u001b[0m\u001b[0;34m(\u001b[0m\u001b[0mX\u001b[0m\u001b[0;34m,\u001b[0m \u001b[0my\u001b[0m\u001b[0;34m,\u001b[0m \u001b[0mgroups\u001b[0m\u001b[0;34m)\u001b[0m\u001b[0;34m\u001b[0m\u001b[0;34m\u001b[0m\u001b[0m\n\u001b[0m\u001b[1;32m    254\u001b[0m \u001b[0;34m\u001b[0m\u001b[0m\n\u001b[1;32m    255\u001b[0m     \u001b[0mcv\u001b[0m \u001b[0;34m=\u001b[0m \u001b[0mcheck_cv\u001b[0m\u001b[0;34m(\u001b[0m\u001b[0mcv\u001b[0m\u001b[0;34m,\u001b[0m \u001b[0my\u001b[0m\u001b[0;34m,\u001b[0m \u001b[0mclassifier\u001b[0m\u001b[0;34m=\u001b[0m\u001b[0mis_classifier\u001b[0m\u001b[0;34m(\u001b[0m\u001b[0mestimator\u001b[0m\u001b[0;34m)\u001b[0m\u001b[0;34m)\u001b[0m\u001b[0;34m\u001b[0m\u001b[0;34m\u001b[0m\u001b[0m\n",
      "\u001b[0;32m/opt/conda/lib/python3.7/site-packages/sklearn/utils/validation.py\u001b[0m in \u001b[0;36mindexable\u001b[0;34m(*iterables)\u001b[0m\n\u001b[1;32m    376\u001b[0m \u001b[0;34m\u001b[0m\u001b[0m\n\u001b[1;32m    377\u001b[0m     \u001b[0mresult\u001b[0m \u001b[0;34m=\u001b[0m \u001b[0;34m[\u001b[0m\u001b[0m_make_indexable\u001b[0m\u001b[0;34m(\u001b[0m\u001b[0mX\u001b[0m\u001b[0;34m)\u001b[0m \u001b[0;32mfor\u001b[0m \u001b[0mX\u001b[0m \u001b[0;32min\u001b[0m \u001b[0miterables\u001b[0m\u001b[0;34m]\u001b[0m\u001b[0;34m\u001b[0m\u001b[0;34m\u001b[0m\u001b[0m\n\u001b[0;32m--> 378\u001b[0;31m     \u001b[0mcheck_consistent_length\u001b[0m\u001b[0;34m(\u001b[0m\u001b[0;34m*\u001b[0m\u001b[0mresult\u001b[0m\u001b[0;34m)\u001b[0m\u001b[0;34m\u001b[0m\u001b[0;34m\u001b[0m\u001b[0m\n\u001b[0m\u001b[1;32m    379\u001b[0m     \u001b[0;32mreturn\u001b[0m \u001b[0mresult\u001b[0m\u001b[0;34m\u001b[0m\u001b[0;34m\u001b[0m\u001b[0m\n\u001b[1;32m    380\u001b[0m \u001b[0;34m\u001b[0m\u001b[0m\n",
      "\u001b[0;32m/opt/conda/lib/python3.7/site-packages/sklearn/utils/validation.py\u001b[0m in \u001b[0;36mcheck_consistent_length\u001b[0;34m(*arrays)\u001b[0m\n\u001b[1;32m    332\u001b[0m         raise ValueError(\n\u001b[1;32m    333\u001b[0m             \u001b[0;34m\"Found input variables with inconsistent numbers of samples: %r\"\u001b[0m\u001b[0;34m\u001b[0m\u001b[0;34m\u001b[0m\u001b[0m\n\u001b[0;32m--> 334\u001b[0;31m             \u001b[0;34m%\u001b[0m \u001b[0;34m[\u001b[0m\u001b[0mint\u001b[0m\u001b[0;34m(\u001b[0m\u001b[0ml\u001b[0m\u001b[0;34m)\u001b[0m \u001b[0;32mfor\u001b[0m \u001b[0ml\u001b[0m \u001b[0;32min\u001b[0m \u001b[0mlengths\u001b[0m\u001b[0;34m]\u001b[0m\u001b[0;34m\u001b[0m\u001b[0;34m\u001b[0m\u001b[0m\n\u001b[0m\u001b[1;32m    335\u001b[0m         )\n\u001b[1;32m    336\u001b[0m \u001b[0;34m\u001b[0m\u001b[0m\n",
      "\u001b[0;31mValueError\u001b[0m: Found input variables with inconsistent numbers of samples: [334, 240]"
     ]
    },
    {
     "data": {
      "image/png": "[encoded data removed]",
      "text/plain": [
       "<Figure size 432x288 with 1 Axes>"
      ]
     },
     "metadata": {
      "needs_background": "light"
     },
     "output_type": "display_data"
    }
   ],
   "source": [
    "from sklearn.model_selection import cross_val_score\n",
    "from sklearn.model_selection import RepeatedKFold\n",
    "from sklearn.linear_model import Ridge\n",
    "from sklearn.decomposition import PCA\n",
    "\n",
    "\n",
    "model = Ridge(alpha=0.5)\n",
    "X = csvfile[\"Pole\"][[\"x\", \"y\"]]\n",
    "X = (X-np.mean(X, axis=0))/np.mean(X, axis=0)\n",
    "x = pd.Series(PCA(n_components=1).fit_transform(X).flatten())\n",
    "x = (x - np.min(x))/np.min(x)\n",
    "\n",
    "X = X[::20]\n",
    "x = x[::20]\n",
    "y = ca_data[\"F_trialwise_closed_loop\"][: , cni, 0].flatten()[:X.shape[0]]\n",
    "\n",
    "plt.plot(X)\n",
    "plt.plot(x)\n",
    "\n",
    "cv = RepeatedKFold(n_splits=10, n_repeats=3, random_state=100)\n",
    "scores = cross_val_score(model, X, y, scoring='neg_mean_absolute_error', cv=cv, n_jobs=-1)\n",
    "scores = np.abs(scores)\n",
    "print('Mean MAE: %.3f (%.3f)' % (np.mean(scores),np.std(scores)))"
   ]
  },
  {
   "cell_type": "code",
   "execution_count": null,
   "id": "9f8b5808-c7b3-4304-b455-88070013dd11",
   "metadata": {},
   "outputs": [],
   "source": [
    "PCA(n_components=1).fit_transform(X).flatten().shape"
   ]
  },
  {
   "cell_type": "code",
   "execution_count": null,
   "id": "abc112d4-4bc8-47bf-846c-9df05de78566",
   "metadata": {},
   "outputs": [],
   "source": [
    "X.mean(axis=0)"
   ]
  },
  {
   "cell_type": "code",
   "execution_count": null,
   "id": "24020abe-07f7-4759-97dc-d6009815e3da",
   "metadata": {},
   "outputs": [],
   "source": [
    "for bp in bodyparts:\n",
    "    X = csvfile[bp][[\"x\", \"y\"]]\n",
    "    # X = (X-np.mean(X, axis=0))/np.mean(X, axis=0)\n",
    "    x = pd.Series(PCA(n_components=1).fit_transform(X).flatten())\n",
    "    # x = (x - np.min(x))/np.min(x)\n",
    "\n",
    "    X = X[::20]\n",
    "    x = x[::20]\n",
    "    y = ca_data[\"F_trialwise_closed_loop\"][: , cni, 0].flatten()[:X.shape[0]]\n",
    "\n",
    "    plt.plot(X, label=[\"X\", \"Y\"])\n",
    "    plt.plot(x, label=[\"1st PC\"])\n",
    "    plt.title(bp)\n",
    "    plt.show()\n"
   ]
  },
  {
   "cell_type": "code",
   "execution_count": 131,
   "id": "6101b5fb-9d45-4355-bca9-aa75c9c5285f",
   "metadata": {},
   "outputs": [
    {
     "data": {
      "text/plain": [
       "(232, 1)"
      ]
     },
     "execution_count": 131,
     "metadata": {},
     "output_type": "execute_result"
    }
   ],
   "source": [
    "x.shape"
   ]
  },
  {
   "cell_type": "code",
   "execution_count": null,
   "id": "16d63a0a-f877-4f8e-98fd-fa3cd9912766",
   "metadata": {},
   "outputs": [],
   "source": []
  }
 ],
 "metadata": {
  "environment": {
   "kernel": "python3",
   "name": "common-cpu.m92",
   "type": "gcloud",
   "uri": "gcr.io/deeplearning-platform-release/base-cpu:m92"
  },
  "interpreter": {
   "hash": "769cdb781f20d101e7a6a5d1d7c0f45f69786d518ad86bc027f0b06c836162d4"
  },
  "kernelspec": {
   "display_name": "Python 3 (ipykernel)",
   "language": "python",
   "name": "python3"
  },
  "language_info": {
   "codemirror_mode": {
    "name": "ipython",
    "version": 3
   },
   "file_extension": ".py",
   "mimetype": "text/x-python",
   "name": "python",
   "nbconvert_exporter": "python",
   "pygments_lexer": "ipython3",
   "version": "3.8.12"
  }
 },
 "nbformat": 4,
 "nbformat_minor": 5
}
