{
 "cells": [
  {
   "cell_type": "code",
   "execution_count": null,
   "id": "92e73889-795d-474f-a5ea-ceaeff8d9370",
   "metadata": {},
   "outputs": [],
   "source": [
    "import numpy as np\n",
    "# save dummy variables to be able to run suite2p\n",
    "subject = 'BCI_51'\n",
    "fov = 'FOV_01'\n",
    "\n",
    "stat = np.load('/home/jupyter/bucket/Data/Calcium_imaging/suite2p/Bergamo-2P-Photostim/{}/{}/stat.npy'.format(subject,fov),allow_pickle = True).tolist()\n",
    "F = np.zeros([len(stat),100])\n",
    "iscell = np.zeros([len(stat),2])\n",
    "\n",
    "stat_new = []\n",
    "for s in stat:\n",
    "    footprint.append(s['solidity'])\n",
    "    radius.append(s['radius'])\n",
    "    fpr.append(s['footprint']/s['radius'])\n",
    "    s['skew'] = 0\n",
    "    stat_new.append(s)\n",
    "\n",
    "\n",
    "np.save('/home/jupyter/bucket/Data/Calcium_imaging/suite2p/Bergamo-2P-Photostim/{}/{}/F.npy'.format(subject,fov),F)\n",
    "np.save('/home/jupyter/bucket/Data/Calcium_imaging/suite2p/Bergamo-2P-Photostim/{}/{}/Fneu.npy'.format(subject,fov),F)\n",
    "np.save('/home/jupyter/bucket/Data/Calcium_imaging/suite2p/Bergamo-2P-Photostim/{}/{}/spks.npy'.format(subject,fov),F)\n",
    "np.save('/home/jupyter/bucket/Data/Calcium_imaging/suite2p/Bergamo-2P-Photostim/{}/{}/iscell.npy'.format(subject,fov),iscell)\n",
    "np.save('/home/jupyter/bucket/Data/Calcium_imaging/suite2p/Bergamo-2P-Photostim/{}/{}/stat.npy'.format(subject,fov),stat_new)\n",
    "\n",
    "# now copy an ops file from a session to the root FOV directory\n",
    "# and run suite2p and select the ROIs you need"
   ]
  },
  {
   "cell_type": "code",
   "execution_count": null,
   "id": "d838d16a-b919-4d4f-836f-1c8e38b94534",
   "metadata": {},
   "outputs": [],
   "source": [
    "# use manual labels for clearing up stats\n",
    "iscell = np.load('/home/jupyter/bucket/Data/Calcium_imaging/suite2p/Bergamo-2P-Photostim/{}/{}/iscell.npy'.format(subject,fov),allow_pickle = True).tolist()\n",
    "needed_cells = np.asarray(iscell)[:,0]==1\n",
    "stat = np.load('/home/jupyter/bucket/Data/Calcium_imaging/suite2p/Bergamo-2P-Photostim/{}/{}/stat.npy'.format(subject,fov),allow_pickle = True).tolist()\n",
    "cell_masks = np.load('/home/jupyter/bucket/Data/Calcium_imaging/suite2p/Bergamo-2P-Photostim/{}/{}/cell_masks.npy'.format(subject,fov),allow_pickle = True).tolist()\n",
    "neuropil_masks = np.load('/home/jupyter/bucket/Data/Calcium_imaging/suite2p/Bergamo-2P-Photostim/{}/{}/neuropil_masks.npy'.format(subject,fov),allow_pickle = True).tolist()"
   ]
  },
  {
   "cell_type": "code",
   "execution_count": null,
   "id": "69f3a002-8850-42cf-a163-48d13a0cc36a",
   "metadata": {},
   "outputs": [],
   "source": [
    "cell_masks = np.asarray(cell_masks)[needed_cells].tolist()\n",
    "neuropil_masks = np.asarray(neuropil_masks)[needed_cells].tolist()\n",
    "stat = np.asarray(stat)[needed_cells].tolist()\n",
    "np.save('/home/jupyter/bucket/Data/Calcium_imaging/suite2p/Bergamo-2P-Photostim/{}/{}/stat.npy'.format(subject,fov),stat)\n",
    "np.save('/home/jupyter/bucket/Data/Calcium_imaging/suite2p/Bergamo-2P-Photostim/{}/{}/cell_masks.npy'.format(subject,fov),cell_masks)\n",
    "np.save('/home/jupyter/bucket/Data/Calcium_imaging/suite2p/Bergamo-2P-Photostim/{}/{}/neuropil_masks.npy'.format(subject,fov),neuropil_masks)"
   ]
  }
 ],
 "metadata": {
  "environment": {
   "kernel": "bci_with_suite2p",
   "name": "common-cpu.m92",
   "type": "gcloud",
   "uri": "gcr.io/deeplearning-platform-release/base-cpu:m92"
  },
  "kernelspec": {
   "display_name": "bci_with_suite2p",
   "language": "python",
   "name": "bci_with_suite2p"
  },
  "language_info": {
   "codemirror_mode": {
    "name": "ipython",
    "version": 3
   },
   "file_extension": ".py",
   "mimetype": "text/x-python",
   "name": "python",
   "nbconvert_exporter": "python",
   "pygments_lexer": "ipython3",
   "version": "3.8.13"
  }
 },
 "nbformat": 4,
 "nbformat_minor": 5
}
