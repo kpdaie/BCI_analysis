{
 "cells": [
  {
   "cell_type": "code",
   "execution_count": 1,
   "id": "f70dcee4-7c77-4489-8d34-d9e57c75c729",
   "metadata": {},
   "outputs": [
    {
     "name": "stdout",
     "output_type": "stream",
     "text": [
      "Warning: cellpose did not import\n",
      "No module named 'cellpose'\n",
      "cannot use anatomical mode, but otherwise suite2p will run normally\n"
     ]
    }
   ],
   "source": [
    "import os\n",
    "import BCI_analysis\n",
    "raw_scanimage_dir = '/home/jupyter/bucket/Data/Calcium_imaging/raw/Bergamo-2P-Photostim'\n",
    "\n"
   ]
  },
  {
   "cell_type": "code",
   "execution_count": 24,
   "id": "fe03df38-ec8a-41b5-af73-a04a2a0acc44",
   "metadata": {},
   "outputs": [
    {
     "data": {
      "text/plain": [
       "{'031422': \"2021--1-0-'984487fbcb3a6a7422707e7e9bbb8df1fc6db4ec'\"}"
      ]
     },
     "execution_count": 24,
     "metadata": {},
     "output_type": "execute_result"
    }
   ],
   "source": [
    "scanimage_version_dict['BCI_26']"
   ]
  },
  {
   "cell_type": "code",
   "execution_count": 26,
   "id": "5a9fc518-af71-4d50-bf1a-fea6afa31f65",
   "metadata": {},
   "outputs": [
    {
     "data": {
      "text/plain": [
       "{'112123': \"2022-1-0-'6538675fb9c3276754f7078940dcc5cc2b9688b5'\",\n",
       " '112223': \"2022-1-0-'6538675fb9c3276754f7078940dcc5cc2b9688b5'\",\n",
       " '112823': \"2022-1-0-'6538675fb9c3276754f7078940dcc5cc2b9688b5'\",\n",
       " '112923': \"2022-1-0-'6538675fb9c3276754f7078940dcc5cc2b9688b5'\",\n",
       " '113023': \"2022-1-0-'6538675fb9c3276754f7078940dcc5cc2b9688b5'\",\n",
       " '120123': \"2022-1-0-'6538675fb9c3276754f7078940dcc5cc2b9688b5'\",\n",
       " '120623': \"2022-1-0-'6538675fb9c3276754f7078940dcc5cc2b9688b5'\",\n",
       " '120723': \"2022-1-0-'6538675fb9c3276754f7078940dcc5cc2b9688b5'\",\n",
       " '120823': \"2022-1-0-'6538675fb9c3276754f7078940dcc5cc2b9688b5'\"}"
      ]
     },
     "execution_count": 26,
     "metadata": {},
     "output_type": "execute_result"
    }
   ],
   "source": [
    "scanimage_version_dict['BCINM_004']"
   ]
  },
  {
   "cell_type": "code",
   "execution_count": null,
   "id": "b492fd41-1fc3-4cfc-9c58-b589af4c4ef5",
   "metadata": {},
   "outputs": [
    {
     "name": "stdout",
     "output_type": "stream",
     "text": [
      "711606-only-mscarlet\n",
      "stack_00001.stim\n",
      "stack_00001.tif\n",
      "stack_00002.stim\n",
      "stack_00002.tif\n",
      "BCINM_004\n",
      "112123\n",
      "BCINM_006\n",
      "010324\n",
      "BCINM_007_2\n",
      "011924\n",
      "BCINM_008_2\n",
      "022224\n",
      "BCINM_010\n",
      "030624\n",
      "BCINM_012\n",
      "040824\n"
     ]
    }
   ],
   "source": [
    "extract_metadata = BCI_analysis.io_bci.io_scanimage.extract_scanimage_metadata\n",
    "subjects = os.listdir(raw_scanimage_dir)\n",
    "scanimage_version_dict = {}\n",
    "for subject in subjects:\n",
    "    print(subject)\n",
    "    try:\n",
    "        sessions = os.listdir(os.path.join(raw_scanimage_dir,subject))\n",
    "        scanimage_version_dict[subject] = {}\n",
    "    except:\n",
    "        continue\n",
    "    session_done = False\n",
    "    for session in sessions:\n",
    "        if session_done:\n",
    "            break\n",
    "        print(session)\n",
    "        try:\n",
    "            files = os.listdir(os.path.join(raw_scanimage_dir,subject,session))\n",
    "        except:\n",
    "            continue\n",
    "        for file in files:\n",
    "            if '.tif' in file:\n",
    "                try:\n",
    "                    metadata  =extract_metadata(os.path.join(raw_scanimage_dir,subject,session,file))\n",
    "                    scanimage_version_dict[subject][session] = metadata['metadata']['VERSION_MAJOR'] + '-' + metadata['metadata']['VERSION_MINOR']+ '-' + metadata['metadata']['VERSION_UPDATE']+ '-' + metadata['metadata']['VERSION_COMMIT']\n",
    "                    session_done = True\n",
    "                    break\n",
    "                except:\n",
    "                    pass\n"
   ]
  },
  {
   "cell_type": "code",
   "execution_count": 16,
   "id": "e7b99cf1-863a-4cb0-b8b0-3747376e3056",
   "metadata": {},
   "outputs": [
    {
     "data": {
      "text/plain": [
       "dict_keys(['LINE_FORMAT_VERSION', 'PREMIUM', 'TIFF_FORMAT_VERSION', 'VERSION_COMMIT', 'VERSION_MAJOR', 'VERSION_MINOR', 'VERSION_UPDATE', 'acqState', 'acqsPerLoop', 'errorMsg', 'extTrigEnable', 'fieldCurvatureRxs', 'fieldCurvatureRys', 'fieldCurvatureTilt', 'fieldCurvatureTip', 'fieldCurvatureZs', 'imagingSystem', 'loopAcqInterval', 'name', 'objectiveResolution', 'reserverInfo', 'shutDownScript', 'startUpScript', 'userInfo', 'warnMsg', 'hBeams', 'hCameraManager', 'hChannels', 'hConfigurationSaver', 'hCoordinateSystems', 'hCycleManager', 'hDisplay', 'hFastZ', 'hIntegrationRoiManager', 'hMotionManager', 'hMotors', 'hPhotostim', 'hPmts', 'hRoiManager', 'hScan2D', 'hShutters', 'hStackManager', 'hTileManager', 'hUserFunctions', 'hWSConnector', 'hWaveformManager', 'json'])"
      ]
     },
     "execution_count": 16,
     "metadata": {},
     "output_type": "execute_result"
    }
   ],
   "source": [
    "metadata['metadata'][''].keys()"
   ]
  },
  {
   "cell_type": "code",
   "execution_count": 4,
   "id": "ea109da7-4312-4b52-89a7-19ee439c87a2",
   "metadata": {},
   "outputs": [
    {
     "data": {
      "text/plain": [
       "{'711606-only-mscarlet': {},\n",
       " 'BCINM_004': {'112123': \"2022-1-0-'6538675fb9c3276754f7078940dcc5cc2b9688b5'\"},\n",
       " 'BCINM_006': {'010324': \"2022-1-0-'6538675fb9c3276754f7078940dcc5cc2b9688b5'\"},\n",
       " 'BCINM_007_2': {'011924': \"2022-1-0-'6538675fb9c3276754f7078940dcc5cc2b9688b5'\"},\n",
       " 'BCINM_008_2': {'022224': \"2022-1-0-'6538675fb9c3276754f7078940dcc5cc2b9688b5'\"},\n",
       " 'BCINM_010': {'030624': \"2022-1-0-'6538675fb9c3276754f7078940dcc5cc2b9688b5'\"},\n",
       " 'BCINM_012': {'040824': \"2022-1-0-'6538675fb9c3276754f7078940dcc5cc2b9688b5'\"},\n",
       " 'BCINM_013': {'041524': \"2022-1-0-'6538675fb9c3276754f7078940dcc5cc2b9688b5'\"},\n",
       " 'BCINM_014': {'042424': \"2022-1-0-'6538675fb9c3276754f7078940dcc5cc2b9688b5'\"},\n",
       " 'BCI_26': {'031422': \"2021--1-0-'984487fbcb3a6a7422707e7e9bbb8df1fc6db4ec'\"},\n",
       " 'BCI_29': {'041822': \"2021--1-0-'984487fbcb3a6a7422707e7e9bbb8df1fc6db4ec'\"},\n",
       " 'BCI_30': {'042922': \"2021--1-0-'984487fbcb3a6a7422707e7e9bbb8df1fc6db4ec'\"},\n",
       " 'BCI_31': {'042922': \"2021--1-0-'984487fbcb3a6a7422707e7e9bbb8df1fc6db4ec'\"},\n",
       " 'BCI_32': {'060922': \"2021-1-0-'2af5d7cfec2f1f15c7a4f5cfcb6b56de9e5d4a1d'\"},\n",
       " 'BCI_33': {'062722': \"2021-1-0-'2af5d7cfec2f1f15c7a4f5cfcb6b56de9e5d4a1d'\"},\n",
       " 'BCI_34': {'062722': \"2021-1-0-'2af5d7cfec2f1f15c7a4f5cfcb6b56de9e5d4a1d'\"},\n",
       " 'BCI_35': {'062822': \"2021-1-0-'2af5d7cfec2f1f15c7a4f5cfcb6b56de9e5d4a1d'\"},\n",
       " 'BCI_37': {'062822': \"2021-1-0-'2af5d7cfec2f1f15c7a4f5cfcb6b56de9e5d4a1d'\"},\n",
       " 'BCI_38': {'070522': \"2021-1-0-'2af5d7cfec2f1f15c7a4f5cfcb6b56de9e5d4a1d'\"},\n",
       " 'BCI_39': {'070522': \"2021-1-0-'2af5d7cfec2f1f15c7a4f5cfcb6b56de9e5d4a1d'\"},\n",
       " 'BCI_40': {'072522': \"2021-1-0-'2af5d7cfec2f1f15c7a4f5cfcb6b56de9e5d4a1d'\"},\n",
       " 'BCI_41': {'020623': \"2021-1-0-'2af5d7cfec2f1f15c7a4f5cfcb6b56de9e5d4a1d'\"},\n",
       " 'BCI_42': {'011023': \"2021-1-0-'2af5d7cfec2f1f15c7a4f5cfcb6b56de9e5d4a1d'\"},\n",
       " 'BCI_43': {'011323': \"2021-1-0-'2af5d7cfec2f1f15c7a4f5cfcb6b56de9e5d4a1d'\"},\n",
       " 'BCI_45': {'042523': \"2022-1-0-'6538675fb9c3276754f7078940dcc5cc2b9688b5'\"},\n",
       " 'BCI_47': {'021723': \"2021-1-0-'2af5d7cfec2f1f15c7a4f5cfcb6b56de9e5d4a1d'\"},\n",
       " 'BCI_48': {'021623': \"2021-1-0-'2af5d7cfec2f1f15c7a4f5cfcb6b56de9e5d4a1d'\"},\n",
       " 'BCI_49': {'062123': \"2022-1-0-'e5f06b0f10c9d54a024a3c513aad989db112ca05'\"},\n",
       " 'BCI_50': {'062323': \"2022-1-0-'e5f06b0f10c9d54a024a3c513aad989db112ca05'\"},\n",
       " 'BCI_51': {'062323': \"2022-1-0-'e5f06b0f10c9d54a024a3c513aad989db112ca05'\"},\n",
       " 'BCI_53': {'062323': \"2022-1-0-'e5f06b0f10c9d54a024a3c513aad989db112ca05'\"},\n",
       " 'BCI_54': {'062323': \"2022-1-0-'e5f06b0f10c9d54a024a3c513aad989db112ca05'\"},\n",
       " 'BCI_55': {'062323': \"2022-1-0-'e5f06b0f10c9d54a024a3c513aad989db112ca05'\"},\n",
       " 'BCI_56': {'070323': \"2022-1-0-'e5f06b0f10c9d54a024a3c513aad989db112ca05'\"},\n",
       " 'BCI_57': {'070323': \"2022-1-0-'e5f06b0f10c9d54a024a3c513aad989db112ca05'\"},\n",
       " 'BCI_58': {'070323': \"2022-1-0-'e5f06b0f10c9d54a024a3c513aad989db112ca05'\"},\n",
       " 'BCI_59': {'013024': \"2022-1-0-'6538675fb9c3276754f7078940dcc5cc2b9688b5'\"},\n",
       " 'BCI_60': {'070323': \"2022-1-0-'e5f06b0f10c9d54a024a3c513aad989db112ca05'\"},\n",
       " 'BCI_61': {'070323': \"2022-1-0-'6538675fb9c3276754f7078940dcc5cc2b9688b5'\"},\n",
       " 'BCI_62': {},\n",
       " 'BCI_63': {'071023': \"2022-1-0-'6538675fb9c3276754f7078940dcc5cc2b9688b5'\"},\n",
       " 'BCI_64': {'072123': \"2022-1-0-'6538675fb9c3276754f7078940dcc5cc2b9688b5'\"},\n",
       " 'BCI_65': {'072123': \"2022-1-0-'6538675fb9c3276754f7078940dcc5cc2b9688b5'\"},\n",
       " 'BCI_66': {'092523': \"2022-1-0-'6538675fb9c3276754f7078940dcc5cc2b9688b5'\"},\n",
       " 'BCI_67': {'092723': \"2022-1-0-'6538675fb9c3276754f7078940dcc5cc2b9688b5'\"},\n",
       " 'BCI_68': {'010324': \"2022-1-0-'6538675fb9c3276754f7078940dcc5cc2b9688b5'\"},\n",
       " 'BCI_69': {'011624': \"2022-1-0-'6538675fb9c3276754f7078940dcc5cc2b9688b5'\"},\n",
       " 'BCI_70': {'012224': \"2022-1-0-'6538675fb9c3276754f7078940dcc5cc2b9688b5'\"},\n",
       " 'BCI_71': {'022024': \"2022-1-0-'6538675fb9c3276754f7078940dcc5cc2b9688b5'\"},\n",
       " 'BCI_72': {'010324': \"2022-1-0-'6538675fb9c3276754f7078940dcc5cc2b9688b5'\"},\n",
       " 'BCI_73': {'112823': \"2022-1-0-'6538675fb9c3276754f7078940dcc5cc2b9688b5'\"},\n",
       " 'BCI_74': {'113023': \"2022-1-0-'6538675fb9c3276754f7078940dcc5cc2b9688b5'\"},\n",
       " 'BCI_75': {'010324': \"2022-1-0-'6538675fb9c3276754f7078940dcc5cc2b9688b5'\"},\n",
       " 'BCI_76': {'121123': \"2022-1-0-'6538675fb9c3276754f7078940dcc5cc2b9688b5'\"},\n",
       " 'BCI_77': {'121123': \"2022-1-0-'6538675fb9c3276754f7078940dcc5cc2b9688b5'\"},\n",
       " 'BCI_78': {'010824': \"2022-1-0-'6538675fb9c3276754f7078940dcc5cc2b9688b5'\"},\n",
       " 'BCI_79': {'011724': \"2022-1-0-'6538675fb9c3276754f7078940dcc5cc2b9688b5'\"},\n",
       " 'BCI_80': {'021924': \"2022-1-0-'6538675fb9c3276754f7078940dcc5cc2b9688b5'\"},\n",
       " 'BCI_81': {'022024': \"2022-1-0-'6538675fb9c3276754f7078940dcc5cc2b9688b5'\"},\n",
       " 'BCI_82': {'022024': \"2022-1-0-'6538675fb9c3276754f7078940dcc5cc2b9688b5'\"},\n",
       " 'BCI_84': {'032524': \"2022-1-0-'6538675fb9c3276754f7078940dcc5cc2b9688b5'\"},\n",
       " 'GCaMP_GluSNFR3': {'anm651820': \"2022-1-0-'e5f06b0f10c9d54a024a3c513aad989db112ca05'\"},\n",
       " 'KH_BCI2': {'083122': \"2021-1-0-'2af5d7cfec2f1f15c7a4f5cfcb6b56de9e5d4a1d'\"},\n",
       " 'KH_BCI3': {'090122': \"2021-1-0-'2af5d7cfec2f1f15c7a4f5cfcb6b56de9e5d4a1d'\"},\n",
       " 'Kanghoon_axon': {},\n",
       " 'PKJ_01': {'041323': \"2022-1-0-'e5f06b0f10c9d54a024a3c513aad989db112ca05'\"},\n",
       " 'PKJ_02': {'041323': \"2022-1-0-'e5f06b0f10c9d54a024a3c513aad989db112ca05'\"},\n",
       " 'PKJ_03': {'042123': \"2022-1-0-'e5f06b0f10c9d54a024a3c513aad989db112ca05'\"},\n",
       " 'PKJ_04': {'042123': \"2022-1-0-'e5f06b0f10c9d54a024a3c513aad989db112ca05'\"},\n",
       " 'PKJ_05': {'053123_CW check': \"2022-1-0-'e5f06b0f10c9d54a024a3c513aad989db112ca05'\"},\n",
       " 'scamp-gcamp': {}}"
      ]
     },
     "execution_count": 4,
     "metadata": {},
     "output_type": "execute_result"
    }
   ],
   "source": [
    "scanimage_version_dict"
   ]
  }
 ],
 "metadata": {
  "environment": {
   "kernel": "bci_with_suite2p",
   "name": "common-cpu.m92",
   "type": "gcloud",
   "uri": "gcr.io/deeplearning-platform-release/base-cpu:m92"
  },
  "kernelspec": {
   "display_name": "bci_with_suite2p",
   "language": "python",
   "name": "bci_with_suite2p"
  },
  "language_info": {
   "codemirror_mode": {
    "name": "ipython",
    "version": 3
   },
   "file_extension": ".py",
   "mimetype": "text/x-python",
   "name": "python",
   "nbconvert_exporter": "python",
   "pygments_lexer": "ipython3",
   "version": "3.8.13"
  }
 },
 "nbformat": 4,
 "nbformat_minor": 5
}
