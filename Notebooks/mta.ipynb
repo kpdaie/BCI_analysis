{
 "cells": [
  {
   "cell_type": "code",
   "execution_count": 2,
   "metadata": {},
   "outputs": [],
   "source": [
    "import os\n",
    "import json\n",
    "import numpy as np\n",
    "import matplotlib.pyplot as plt\n",
    "import pandas as pd\n",
    "from scipy import interpolate\n",
    "from tqdm import tqdm"
   ]
  },
  {
   "cell_type": "code",
   "execution_count": 6,
   "metadata": {},
   "outputs": [],
   "source": [
    "import numpy as np\n",
    "import matplotlib.pyplot as plt\n",
    "import os, sys\n",
    "\n",
    "sys.path.append(\"/home/labadmin/Github/BCI_analysis/BCI_analysis/\")\n",
    "# from pipeline.pipeline_align import get_aligned_data\n",
    "from sklearn.linear_model import LinearRegression\n",
    "from sklearn.preprocessing import StandardScaler\n",
    "# from plot_utils import rollingfun\n",
    "from sklearn.decomposition import PCA\n",
    "\n",
    "dlc_base_dir = os.path.abspath(\"../bucket/Data/Behavior_videos/DLC_output/Bergamo-2P-Photostim/\")\n",
    "bpod_path = os.path.abspath(\"../bucket/Data/Behavior/BCI_exported/Bergamo-2P-Photostim/\")\n",
    "suite2p_path = os.path.abspath(\"../bucket/Data/Calcium_imaging/suite2p/Bergamo-2P-Photostim/\")\n",
    "sessionwise_data_path = os.path.abspath(\"../bucket/Data/Calcium_imaging/sessionwise_tba/\")\n",
    "plt_save_path = os.path.abspath(\"../Plots/\")\n",
    "\n",
    "mouse = \"BCI_26\"\n",
    "FOV = \"FOV_04\"\n",
    "camera = \"side\" \n",
    "session = \"041022\"\n",
    "\n",
    "# from ..pipeline.pipeline_align import align_licks\n"
   ]
  },
  {
   "cell_type": "code",
   "execution_count": 8,
   "metadata": {},
   "outputs": [],
   "source": [
    "def interpolate_ca_data(dlc_trial, F_trial, plot=False):\n",
    "    x = np.linspace(0, dlc_trial.shape[0], F_trial.shape[1])\n",
    "    xnew = np.arange(0, dlc_trial.shape[0])\n",
    "    F_ret = np.zeros((F_trial.shape[0], dlc_trial.shape[0]))\n",
    "    for i in range(F_trial.shape[0]):\n",
    "        y = F_trial[i, :]\n",
    "        f = interpolate.interp1d(x, y)\n",
    "        ynew = f(xnew)\n",
    "        F_ret[i, :] = ynew\n",
    "    if plot:\n",
    "        plt.plot(x, y, 'o', xnew, ynew, '-')\n",
    "        plt.show()\n",
    "    return F_ret"
   ]
  },
  {
   "cell_type": "code",
   "execution_count": 122,
   "metadata": {},
   "outputs": [
    {
     "name": "stdout",
     "output_type": "stream",
     "text": [
      "72 72 73\n"
     ]
    },
    {
     "name": "stderr",
     "output_type": "stream",
     "text": [
      "14it [00:06,  2.14it/s]"
     ]
    },
    {
     "name": "stdout",
     "output_type": "stream",
     "text": [
      "Multiple side camera files found for trial 14, skipping\n"
     ]
    },
    {
     "name": "stderr",
     "output_type": "stream",
     "text": [
      "72it [00:35,  2.01it/s]\n"
     ]
    }
   ],
   "source": [
    "\n",
    "bpod_filepath = os.path.join(bpod_path, mouse, session+\"-bpod_zaber.npy\")\n",
    "bpod_data = np.load(bpod_filepath, allow_pickle=True).tolist()\n",
    "behavior_movie_names = bpod_data['behavior_movie_name_list'][:-1]\n",
    "trial_start_times = bpod_data['trial_start_times']\n",
    "\n",
    "ca_data = np.load(os.path.join(sessionwise_data_path, mouse, mouse+\"-\"+session+\"-\"+FOV+\".npy\"), allow_pickle=True).tolist()\n",
    "F = ca_data['F_sessionwise']\n",
    "fs = ca_data['sampling_rate']\n",
    "lick_times = ca_data['lick_times']\n",
    "reward_times = ca_data['reward_times']\n",
    "trial_times = ca_data['trial_times']\n",
    "\n",
    "with open(os.path.join(suite2p_path, mouse, FOV, session, \"filelist.json\")) as f:\n",
    "    filelist = json.load(f)\n",
    "\n",
    "cl_trial_list = [filelist['file_name_list'][i] for i in range(len(filelist['frame_num_list'])) if filelist['file_name_list'][i].startswith(\"neuron\")]\n",
    "print(len(cl_trial_list),len(behavior_movie_names), len(trial_start_times))\n",
    "\n",
    "F_behavior = []\n",
    "lt = []\n",
    "rt = []\n",
    "ltrel = []\n",
    "rtrel = []\n",
    "dlc_data = None\n",
    "\n",
    "for i, bm_name in tqdm(enumerate(behavior_movie_names)):\n",
    "\n",
    "    if type(bm_name) == str:\n",
    "        print(f\"{camera} camera not found for trial {i}, skipping\")\n",
    "        continue\n",
    "    \n",
    "    camera_movies = []\n",
    "    for video_file in bm_name:\n",
    "        if camera in video_file: \n",
    "            camera_movies.append(video_file)\n",
    "    \n",
    "    if len(camera_movies) == 0:\n",
    "        print(f\"{camera} camera not found for trial {i}, skipping\")\n",
    "        continue\n",
    "    elif len(camera_movies) > 1:\n",
    "        print(f\"Multiple {camera} camera files found for trial {i}, skipping\")\n",
    "        continue\n",
    "    \n",
    "    video_path = camera_movies[0]\n",
    "    dlc_file_name = video_path[video_path.find(camera)+len(camera)+1:].split(\"/\") #[mouse, session_id, trial_id]\n",
    "    dlc_folder = os.path.join(dlc_base_dir, camera, dlc_file_name[0], dlc_file_name[1])\n",
    "    trial_id = dlc_file_name[2][:-5]\n",
    "\n",
    "    trial_json = os.path.join(dlc_folder, trial_id+\".json\")\n",
    "    with open(trial_json) as f:\n",
    "        trial_metadata = json.load(f)\n",
    "    \n",
    "    frame_times_rel0 = (trial_start_times[i] - trial_start_times[0]).total_seconds() + np.asarray(trial_metadata['frame_times'])\n",
    "    F_trial = F[:, int(frame_times_rel0[0]*fs):int(frame_times_rel0[-1]*fs)]\n",
    "\n",
    "\n",
    "    trial_csv = [k for k in next(os.walk(dlc_folder))[2] if k.startswith(trial_id) and k.endswith(\"csv\")][0]\n",
    "    dlc_trial = pd.read_csv(os.path.join(dlc_folder, trial_csv), header=[1,2], index_col=0).drop('likelihood', level=1, axis=1)\n",
    "    # dlc_trial = collapse_dlc_data(dlc_trial, F_trial.shape[1], mode='edge')\n",
    "\n",
    "    if i == 0:\n",
    "        ltimes = list((lick_times[i])*(dlc_trial.shape[0]/trial_times[i]))\n",
    "        rtimes = list((reward_times[i])*(dlc_trial.shape[0]/trial_times[i]))\n",
    "\n",
    "        ltimes_rel = list((lick_times[i])*(dlc_trial.shape[0]/trial_times[i]))\n",
    "        rtimes_rel = list((reward_times[i])*(dlc_trial.shape[0]/trial_times[i]))\n",
    "\n",
    "    else:\n",
    "        ltimes = list((lick_times[i])*(dlc_trial.shape[0]/trial_times[i]) + dlc_data.shape[0])\n",
    "        rtimes = list((reward_times[i])*(dlc_trial.shape[0]/trial_times[i]) + dlc_data.shape[0])\n",
    "\n",
    "        ltimes_rel = list((lick_times[i])*(dlc_trial.shape[0]/trial_times[i]))\n",
    "        rtimes_rel = list((reward_times[i])*(dlc_trial.shape[0]/trial_times[i]))\n",
    "\n",
    "    dlc_data = pd.concat([dlc_data, dlc_trial], ignore_index=True)\n",
    "    F_trial = interpolate_ca_data(dlc_trial, F_trial)\n",
    "    F_behavior.append(F_trial)\n",
    "    lt.append([int(k) for k in ltimes])\n",
    "    rt.append([int(k) for k in rtimes])\n",
    "\n",
    "    ltrel.append([int(k) for k in ltimes_rel])\n",
    "    rtrel.append([int(k) for k in rtimes_rel])\n",
    "\n",
    "trial_lengths = [len(F_behavior[i]) for i in range(len(F_behavior))]\n",
    "F_behavior = np.hstack(F_behavior)"
   ]
  },
  {
   "cell_type": "code",
   "execution_count": 124,
   "metadata": {},
   "outputs": [
    {
     "data": {
      "image/png": "[encoded data removed]",
      "text/plain": [
       "<Figure size 1152x720 with 1 Axes>"
      ]
     },
     "metadata": {
      "needs_background": "light"
     },
     "output_type": "display_data"
    }
   ],
   "source": [
    "plt.figure(figsize=(16, 10))\n",
    "for i in range(len(lt)):\n",
    "    plt.plot(ltrel[i], [i]*len(ltrel[i]), 'go', markersize=1.5)    \n",
    "    plt.plot(rtrel[i], [i]*len(rtrel[i]), 'ro', markersize=1.5)\n",
    "\n",
    "plt.ylabel(\"Trial #\")\n",
    "plt.xlabel(\"Time from trial start\")\n",
    "plt.show()"
   ]
  },
  {
   "cell_type": "code",
   "execution_count": 131,
   "metadata": {},
   "outputs": [],
   "source": [
    "lt = sum(lt, [])\n",
    "rt = sum(rt, [])"
   ]
  },
  {
   "cell_type": "code",
   "execution_count": 137,
   "metadata": {},
   "outputs": [
    {
     "data": {
      "image/png": "[encoded data removed]",
      "text/plain": [
       "<Figure size 1152x720 with 1 Axes>"
      ]
     },
     "metadata": {
      "needs_background": "light"
     },
     "output_type": "display_data"
    }
   ],
   "source": [
    "plt.figure(figsize=(16, 10))\n",
    "# for i in range(len(lt)):\n",
    "plt.plot(lt, [0]*len(lt), 'go', markersize=1.5)    \n",
    "plt.plot(rt, [0]*len(rt), 'ro', markersize=1.5)\n",
    "\n",
    "plt.ylabel(\"Trial #\")\n",
    "plt.xlabel(\"Time from trial start\")\n",
    "plt.show()"
   ]
  },
  {
   "cell_type": "code",
   "execution_count": 232,
   "metadata": {},
   "outputs": [
    {
     "data": {
      "image/png": "[encoded data removed]",
      "text/plain": [
       "<Figure size 432x288 with 1 Axes>"
      ]
     },
     "metadata": {
      "needs_background": "light"
     },
     "output_type": "display_data"
    }
   ],
   "source": [
    "# import matplotlib\n",
    "# matplotlib.use(\"qtagg\")\n",
    "\n",
    "grad = (np.gradient(dlc_data[\"TongueTip\"][\"x\"]) > 50).astype('double')\n",
    "grad[grad == 0.0] = np.nan\n",
    "plt.plot(grad, '|')\n",
    "plt.plot(rt, [1]*len(rt), '|')\n",
    "plt.xlim([0, 50000])\n",
    "plt.show()"
   ]
  },
  {
   "cell_type": "code",
   "execution_count": 229,
   "metadata": {},
   "outputs": [
    {
     "data": {
      "text/plain": [
       "array([nan, nan, nan, ..., nan, nan, nan])"
      ]
     },
     "execution_count": 229,
     "metadata": {},
     "output_type": "execute_result"
    }
   ],
   "source": [
    "np.cumsum(grad)"
   ]
  },
  {
   "cell_type": "code",
   "execution_count": 159,
   "metadata": {},
   "outputs": [
    {
     "data": {
      "text/plain": [
       "[<matplotlib.lines.Line2D at 0x7fadd8bcf5b0>]"
      ]
     },
     "execution_count": 159,
     "metadata": {},
     "output_type": "execute_result"
    },
    {
     "data": {
      "image/png": "[encoded data removed]",
      "text/plain": [
       "<Figure size 432x288 with 1 Axes>"
      ]
     },
     "metadata": {
      "needs_background": "light"
     },
     "output_type": "display_data"
    }
   ],
   "source": [
    "plt.plot(dlc_trial[\"PawR\"][\"x\"])\n",
    "plt.plot(dlc_trial[\"PawR\"][\"y\"])\n",
    "# plt.xlim([0, 500])"
   ]
  },
  {
   "cell_type": "code",
   "execution_count": null,
   "metadata": {},
   "outputs": [],
   "source": []
  }
 ],
 "metadata": {
  "kernelspec": {
   "display_name": "Python 3.10.4 ('mohit-env')",
   "language": "python",
   "name": "python3"
  },
  "language_info": {
   "codemirror_mode": {
    "name": "ipython",
    "version": 3
   },
   "file_extension": ".py",
   "mimetype": "text/x-python",
   "name": "python",
   "nbconvert_exporter": "python",
   "pygments_lexer": "ipython3",
   "version": "3.10.4"
  },
  "orig_nbformat": 4,
  "vscode": {
   "interpreter": {
    "hash": "2e535988ef4f2010e178ffb89005d2fca191d371f7de2d078f99adc1c19b446b"
   }
  }
 },
 "nbformat": 4,
 "nbformat_minor": 2
}
