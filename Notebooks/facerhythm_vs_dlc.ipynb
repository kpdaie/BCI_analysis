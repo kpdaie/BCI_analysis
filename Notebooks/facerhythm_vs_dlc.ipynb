{
 "cells": [
  {
   "cell_type": "code",
   "execution_count": null,
   "id": "f3103ea3-80d9-44d5-a105-7d685ec14af6",
   "metadata": {},
   "outputs": [],
   "source": []
  },
  {
   "cell_type": "code",
   "execution_count": 1,
   "id": "ef252ecc-895f-4c63-aa42-5e57b68819f4",
   "metadata": {},
   "outputs": [
    {
     "name": "stdout",
     "output_type": "stream",
     "text": [
      "Warning: cellpose did not import\n",
      "No module named 'cellpose'\n",
      "cannot use anatomical mode, but otherwise suite2p will run normally\n"
     ]
    }
   ],
   "source": [
    "#Import necessary libraries - should work mostly from BCI_analysis + matplotlib + numpy\n",
    "import BCI_analysis\n",
    "from BCI_analysis.pipeline import pipeline_regression\n",
    "import importlib\n",
    "importlib.reload(pipeline_regression)\n",
    "importlib.reload(BCI_analysis)\n",
    "import os\n",
    "import numpy as np\n",
    "import matplotlib.pyplot as plt\n",
    "import pandas as pd"
   ]
  },
  {
   "cell_type": "code",
   "execution_count": 2,
   "id": "f7d91967-2c17-4561-a82f-69fe811fef1e",
   "metadata": {},
   "outputs": [
    {
     "name": "stdout",
     "output_type": "stream",
     "text": [
      "File found at /home/jupyter/bucket/Data/Calcium_imaging/data_aligned/BCI_34/071922-dict_aligned-downsampled.npy\n",
      "dict_keys(['F_aligned', 'DLC_aligned', 'dff_aligned', 'lick_times_aligned', 'reward_times_aligned', 'trial_times_aligned', 'cn', 'trials_taken', 'trial_start_indices'])\n"
     ]
    }
   ],
   "source": [
    "# load from python raw data\n",
    "\n",
    "# define base directories, if necessary\n",
    "# define subject/FOV/session/\n",
    "importlib.reload(BCI_analysis.pipeline_align)\n",
    "multisession_mat_file = os.path.abspath(\"/home/jupyter/bucket/Data/Calcium_imaging/multi_session_mat/combined_new_old2.mat\")\n",
    "dlc_base_dir = os.path.abspath(\"/home/jupyter/bucket/Data/Behavior_videos/DLC_output/Bergamo-2P-Photostim/\")\n",
    "bpod_path = os.path.abspath(\"/home/jupyter/bucket/Data/Behavior/BCI_exported/Bergamo-2P-Photostim/\")\n",
    "suite2p_path = os.path.abspath(\"/home/jupyter/bucket/Data/Calcium_imaging/suite2p/Bergamo-2P-Photostim/\")\n",
    "sessionwise_data_path = os.path.abspath(\"/home/jupyter/bucket/Data/Calcium_imaging/sessionwise_tba/\")\n",
    "aligned_data_path = os.path.abspath(\"/home/jupyter/bucket/Data/Calcium_imaging/data_aligned/\")\n",
    "plt_save_path = os.path.abspath(\"/home/jupyter/Plots/\")\n",
    "face_rhythm_base_dir = '/home/jupyter/bucket/Data/Behavior_videos/FaceRhythm/'\n",
    "motion_energy_base_dir = os.path.abspath(\"/home/jupyter/bucket/Data/Behavior_videos/MotionEnergy/Bergamo-2P-Photostim/\")\n",
    "raw_video_path = os.path.abspath(\"/home/jupyter/bucket/Data/Behavior_videos/raw/Bergamo-2P-Photostim/\")\n",
    "\n",
    "mouse = \"BCI_34\"\n",
    "FOV = \"FOV_04\"\n",
    "camera = \"side\"\n",
    "session = \"071922\"\n",
    "\n",
    "# match calcium imaging frames with DLC frames, extract all data in a nice structure\n",
    "# it doesn't have to have the actual calcium traces, the frame indices are enough, since we'll select the calcium traces in a next step, since probably this cell will be the slowest\n",
    "# should have the option for averaging/std calculation on variable windows, then downsampling\n",
    "# should have the option for excluding post-reward activity\n",
    "multi_session_dict = {'mouse':[],\n",
    "                     'session':[],\n",
    "                      'mat_idx':[],\n",
    "                     'cn':[],\n",
    "                     'DLC_aligned':[],\n",
    "                     'F':[],\n",
    "                     'trial_end_frames':[]}\n",
    "dict_aligned = BCI_analysis.pipeline_align.get_aligned_data(suite2p_path, \n",
    "                                                            dlc_base_dir, \n",
    "                                                            bpod_path, \n",
    "                                                            sessionwise_data_path, \n",
    "                                                            aligned_data_path, \n",
    "                                                            motion_energy_base_dir,\n",
    "                                                            raw_video_path,\n",
    "                                                            mouse=mouse, \n",
    "                                                            FOV=FOV, \n",
    "                                                            camera=camera, \n",
    "                                                            session=session, \n",
    "                                                            sampling='down', \n",
    "                                                            functions = ['diff','diff_signed','mean'],\n",
    "                                                            function_window = 20,  ### important variable for downsampling 1 for facerhythm - 20/200 for \n",
    "                                                            convolve_tau = 0.7, #.7\n",
    "                                                            plot = False,\n",
    "                                                            overwrite=False,\n",
    "                                                            use_provided_data=False,\n",
    "                                                            add_motion_energy = True,\n",
    "                                                            source_data = None,\n",
    "                                                            face_rhythm_base_dir = face_rhythm_base_dir,\n",
    "                                                            use_face_rhythm = False,\n",
    "                                                            match_with_face_rhythm = False)\n",
    "DLC_aligned = pd.DataFrame.from_dict(dict_aligned['DLC_aligned'])\n",
    "F = np.concatenate(dict_aligned['F_aligned'], axis=1)\n",
    "multi_session_dict['mouse'].append(mouse)\n",
    "multi_session_dict['session'].append(session)\n",
    "multi_session_dict['cn'].append(dict_aligned['cn'])\n",
    "multi_session_dict['mat_idx'].append(None)\n",
    "multi_session_dict['DLC_aligned'].append(DLC_aligned)\n",
    "multi_session_dict['F'].append(F)\n",
    "multi_session_dict['trial_end_frames'].append(dict_aligned['trial_start_indices'])\n",
    "#break\n",
    "print(dict_aligned.keys())\n"
   ]
  },
  {
   "cell_type": "code",
   "execution_count": 2,
   "id": "10864fe0-52b0-477f-9728-d832413d97b0",
   "metadata": {
    "tags": []
   },
   "outputs": [
    {
     "name": "stderr",
     "output_type": "stream",
     "text": [
      "/opt/conda/envs/bci_with_suite2p/lib/python3.8/site-packages/hdfdict/hdfdict.py:22: H5pyDeprecationWarning: The default file mode will change to 'r' (read-only) in h5py 3.0. To suppress this warning, pass the mode you need to h5py.File(), or set the global default h5.get_config().default_file_mode, or set the environment variable H5PY_DEFAULT_READONLY=1. Available modes are: 'r', 'r+', 'w', 'w-'/'x', 'a'. See the docs for details.\n",
      "  yield h5py.File(hdf, *args, **kwargs)\n"
     ]
    },
    {
     "name": "stdout",
     "output_type": "stream",
     "text": [
      "facerhythm trial not found, skipping trial_00080__2022-07-19_13-50-03.mp4\n",
      "facerhythm trial not found, skipping trial_00081__2022-07-19_13-50-13.mp4\n",
      "facerhythm trial not found, skipping trial_00082__2022-07-19_13-50-22.mp4\n",
      "facerhythm trial not found, skipping trial_00083__2022-07-19_13-50-34.mp4\n",
      "facerhythm trial not found, skipping trial_00084__2022-07-19_13-50-50.mp4\n",
      "facerhythm trial not found, skipping trial_00085__2022-07-19_13-51-01.mp4\n",
      "facerhythm trial not found, skipping trial_00086__2022-07-19_13-51-13.mp4\n",
      "facerhythm trial not found, skipping trial_00087__2022-07-19_13-51-25.mp4\n",
      "facerhythm trial not found, skipping trial_00088__2022-07-19_13-51-37.mp4\n",
      "facerhythm trial not found, skipping trial_00089__2022-07-19_13-51-48.mp4\n",
      "facerhythm trial not found, skipping trial_00090__2022-07-19_13-52-00.mp4\n",
      "facerhythm trial not found, skipping trial_00091__2022-07-19_13-52-12.mp4\n",
      "facerhythm trial not found, skipping trial_00092__2022-07-19_13-52-29.mp4\n",
      "facerhythm trial not found, skipping trial_00093__2022-07-19_13-52-35.mp4\n",
      "facerhythm trial not found, skipping trial_00094__2022-07-19_13-52-48.mp4\n",
      "facerhythm trial not found, skipping trial_00095__2022-07-19_13-53-00.mp4\n",
      "facerhythm trial not found, skipping trial_00096__2022-07-19_13-53-11.mp4\n",
      "facerhythm trial not found, skipping trial_00097__2022-07-19_13-53-22.mp4\n",
      "facerhythm trial not found, skipping trial_00098__2022-07-19_13-53-38.mp4\n",
      "facerhythm trial not found, skipping trial_00099__2022-07-19_13-53-51.mp4\n",
      "facerhythm trial not found, skipping trial_00100__2022-07-19_13-54-05.mp4\n",
      "facerhythm trial not found, skipping trial_00101__2022-07-19_13-54-16.mp4\n",
      "facerhythm trial not found, skipping trial_00102__2022-07-19_13-54-27.mp4\n",
      "facerhythm trial not found, skipping trial_00103__2022-07-19_13-54-41.mp4\n",
      "facerhythm trial not found, skipping trial_00104__2022-07-19_13-54-53.mp4\n",
      "facerhythm trial not found, skipping trial_00105__2022-07-19_13-54-58.mp4\n",
      "facerhythm trial not found, skipping trial_00106__2022-07-19_13-55-09.mp4\n",
      "facerhythm trial not found, skipping trial_00107__2022-07-19_13-55-17.mp4\n",
      "facerhythm trial not found, skipping trial_00108__2022-07-19_13-55-24.mp4\n",
      "facerhythm trial not found, skipping trial_00109__2022-07-19_13-55-34.mp4\n",
      "facerhythm trial not found, skipping trial_00110__2022-07-19_13-55-43.mp4\n",
      "facerhythm trial not found, skipping trial_00111__2022-07-19_13-55-56.mp4\n",
      "facerhythm trial not found, skipping trial_00112__2022-07-19_13-56-15.mp4\n",
      "facerhythm trial not found, skipping trial_00113__2022-07-19_13-56-22.mp4\n",
      "facerhythm trial not found, skipping trial_00114__2022-07-19_13-56-34.mp4\n",
      "facerhythm trial not found, skipping trial_00115__2022-07-19_13-56-45.mp4\n",
      "facerhythm trial not found, skipping trial_00116__2022-07-19_13-56-52.mp4\n",
      "facerhythm trial not found, skipping trial_00117__2022-07-19_13-57-05.mp4\n",
      "facerhythm trial not found, skipping trial_00118__2022-07-19_13-57-11.mp4\n",
      "facerhythm trial not found, skipping trial_00119__2022-07-19_13-57-17.mp4\n",
      "facerhythm trial not found, skipping trial_00120__2022-07-19_13-57-29.mp4\n",
      "facerhythm trial not found, skipping trial_00121__2022-07-19_13-57-41.mp4\n",
      "facerhythm trial not found, skipping trial_00122__2022-07-19_13-57-50.mp4\n",
      "facerhythm trial not found, skipping trial_00123__2022-07-19_13-58-03.mp4\n",
      "facerhythm trial not found, skipping trial_00124__2022-07-19_13-58-17.mp4\n",
      "facerhythm trial not found, skipping trial_00125__2022-07-19_13-58-33.mp4\n",
      "facerhythm trial not found, skipping trial_00126__2022-07-19_13-58-50.mp4\n"
     ]
    }
   ],
   "source": [
    "# explain fecerhythm with DLC and vice versa\n",
    "import json,hdfdict,tqdm\n",
    "add_motion_energy = True\n",
    "multisession_mat_file = os.path.abspath(\"/home/jupyter/bucket/Data/Calcium_imaging/multi_session_mat/combined_new_old2.mat\")\n",
    "dlc_base_dir = os.path.abspath(\"/home/jupyter/bucket/Data/Behavior_videos/DLC_output/Bergamo-2P-Photostim/\")\n",
    "bpod_path = os.path.abspath(\"/home/jupyter/bucket/Data/Behavior/BCI_exported/Bergamo-2P-Photostim/\")\n",
    "suite2p_path = os.path.abspath(\"/home/jupyter/bucket/Data/Calcium_imaging/suite2p/Bergamo-2P-Photostim/\")\n",
    "sessionwise_data_path = os.path.abspath(\"/home/jupyter/bucket/Data/Calcium_imaging/sessionwise_tba/\")\n",
    "aligned_data_path = os.path.abspath(\"/home/jupyter/bucket/Data/Calcium_imaging/data_aligned/\")\n",
    "plt_save_path = os.path.abspath(\"/home/jupyter/Plots/\")\n",
    "face_rhythm_base_dir = '/home/jupyter/bucket/Data/Behavior_videos/FaceRhythm/'\n",
    "motion_energy_base_dir = os.path.abspath(\"/home/jupyter/bucket/Data/Behavior_videos/MotionEnergy/Bergamo-2P-Photostim/\")\n",
    "raw_video_path = os.path.abspath(\"/home/jupyter/bucket/Data/Behavior_videos/raw/Bergamo-2P-Photostim/\")\n",
    "\n",
    "mouse = \"BCI_34\"\n",
    "FOV = \"FOV_04\"\n",
    "camera = \"side\"\n",
    "session = \"071922\"\n",
    "downsample_facerhythm = 20#hard-coded\n",
    "\n",
    "with open(os.path.join(face_rhythm_base_dir,mouse,session,\"run_info.json\")) as f:\n",
    "    face_rhythm_metadata = json.load(f)\n",
    "face_rhythm_file_list_ = face_rhythm_metadata['Dataset_videos']['metadata']['paths_videos'][:face_rhythm_metadata['TCA']['num_dictElements']]\n",
    "face_rhythm_file_list = []\n",
    "for file_path_now_ in face_rhythm_file_list_:\n",
    "    face_rhythm_file_list.append(os.path.split(file_path_now_)[-1])\n",
    "face_rhythm_file_list = np.asarray(face_rhythm_file_list)\n",
    "data_facerhythm  = hdfdict.load(os.path.join(face_rhythm_base_dir,mouse,session,'analysis_files/TCA.h5'))\n",
    "facerhythm_trial_names = list(data_facerhythm['factors_rearranged']['0']['trials'].data.keys())\n",
    "trial_data_facerhythm = data_facerhythm['factors_rearranged']['0']['trials'].data\n",
    "num_factors = data_facerhythm['factors']['0']['(xy points)'].shape[1]#.data.keys()\n",
    "factor_names = []\n",
    "for i_ in range(num_factors):\n",
    "    factor_names.append('Factor {}'.format(i_))\n",
    "\n",
    "\n",
    "bpod_filepath = os.path.join(bpod_path, mouse, session+\"-bpod_zaber.npy\")\n",
    "bpod_data = np.load(bpod_filepath, allow_pickle=True).tolist()\n",
    "\n",
    "behavior_movie_names = bpod_data['behavior_movie_name_list']\n",
    "# print(behavior_movie_names)\n",
    "# print(bpod_data['scanimage_file_names'])\n",
    "files_with_movies = []\n",
    "for i, k in enumerate(bpod_data['scanimage_file_names']):\n",
    "    # print(k)\n",
    "    if str(k) == 'no movie for this trial':\n",
    "        files_with_movies.append(False)\n",
    "    else:\n",
    "        files_with_movies.append(True)                        \n",
    "behavior_movie_names = behavior_movie_names[files_with_movies]\n",
    "    \n",
    "dlc_data = None\n",
    "facerhythm_data = None\n",
    "\n",
    "trials_taken = []\n",
    "trial_start_indices = []\n",
    "for i, bm_name in enumerate(behavior_movie_names):\n",
    "\n",
    "    if type(bm_name) == str:\n",
    "        print(f\"{camera} camera not found for trial {i}, skipping\")\n",
    "        continue\n",
    "\n",
    "    camera_movies = []\n",
    "    for video_file in bm_name:\n",
    "        if camera in video_file: \n",
    "            camera_movies.append(video_file)\n",
    "\n",
    "    if len(camera_movies) == 0:\n",
    "        print(f\"{camera} camera not found for trial {i}, skipping\")\n",
    "        continue\n",
    "    elif len(camera_movies) > 1:\n",
    "        print(f\"Multiple {camera} camera files found for trial {i}, skipping\")\n",
    "        continue\n",
    "\n",
    "    video_path = camera_movies[0]\n",
    "    dlc_file_name = video_path[video_path.find(camera)+len(camera)+1:].split(\"/\") #[mouse, session_id, trial_id]\n",
    "    dlc_folder = os.path.join(dlc_base_dir, camera, dlc_file_name[0], dlc_file_name[1])\n",
    "    trial_id = dlc_file_name[2][:-5]\n",
    "\n",
    "    trial_json = os.path.join(dlc_folder, trial_id+\".json\")\n",
    "    with open(trial_json) as f:\n",
    "        trial_metadata = json.load(f) \n",
    "\n",
    "        trial_csv = [k for k in next(os.walk(dlc_folder))[2] if k.startswith(trial_id) and k.endswith(\"csv\")][0]\n",
    "    trial_json = [k for k in next(os.walk(dlc_folder))[2] if k.startswith(trial_id) and k.endswith(\"json\")][0]\n",
    "    frame_times_dlc = np.asarray(trial_metadata['frame_times'])\n",
    "\n",
    "    # if use_face_rhythm: ## TODO ## HARD-CODED downsampling that Rich used for the pilot data\n",
    "    #     frame_times_dlc = frame_times_dlc[::20] \n",
    "    #itt tartok\n",
    "    \n",
    "    dlc_trial = pd.read_csv(os.path.join(dlc_folder, trial_csv), header=[1,2], index_col=0)\n",
    "    if add_motion_energy:\n",
    "        motion_energy_folder = os.path.join(motion_energy_base_dir, camera, dlc_file_name[0], dlc_file_name[1])\n",
    "        motion_energy_fname = os.path.join(motion_energy_folder, trial_id+\".npy\")\n",
    "        try:\n",
    "            motion_energy_dict = np.load(motion_energy_fname,allow_pickle = True).tolist()\n",
    "        except:\n",
    "            print('extracting motion energy')\n",
    "            extract_motion_energy_from_session(bpod_path,\n",
    "                                              dlc_base_dir,\n",
    "                                              raw_video_path,\n",
    "                                              motion_energy_base_dir,\n",
    "                                              mouse,\n",
    "                                              FOV,\n",
    "                                              session,\n",
    "                                              overwrite=False)\n",
    "            motion_energy_dict = np.load(motion_energy_fname,allow_pickle = True).tolist()\n",
    "        for roi in motion_energy_dict['motion_energy_traces'].keys():\n",
    "            dlc_trial[roi,'motion energy'] = np.concatenate([[motion_energy_dict['motion_energy_traces'][roi][0]],motion_energy_dict['motion_energy_traces'][roi]])\n",
    "\n",
    "\n",
    "    if dlc_trial.shape[0] == 0:\n",
    "        # print(dlc_trial.shape, F_trial.shape)\n",
    "        continue\n",
    "\n",
    "    dlc_trial = dlc_trial.rolling(window = downsample_facerhythm,center=True).mean().iloc[int(downsample_facerhythm/2)::downsample_facerhythm]\n",
    "   \n",
    "    if any(face_rhythm_file_list == dlc_file_name[-1].strip(\"'\")):\n",
    "        trial_index_fr = np.where(face_rhythm_file_list == dlc_file_name[-1].strip(\"'\"))[0][0]\n",
    "        dlc_trial_facerhythm = pd.DataFrame(data = trial_data_facerhythm[facerhythm_trial_names[trial_index_fr]][:],columns = factor_names)\n",
    "        max_len = min([len(dlc_trial),len(dlc_trial_facerhythm)])-1\n",
    "        dlc_trial_facerhythm = dlc_trial_facerhythm.iloc[:max_len]\n",
    "        dlc_trial = dlc_trial.iloc[:max_len]\n",
    "        \n",
    "        dlc_data = pd.concat([dlc_data, dlc_trial], ignore_index=True) \n",
    "        facerhythm_data = pd.concat([facerhythm_data, dlc_trial_facerhythm], ignore_index=True) \n",
    "        trial_start_indices.append(len(dlc_data))\n",
    "        #aaasdasd\n",
    "\n",
    "    else:\n",
    "        print('facerhythm trial not found, skipping {}'.format(dlc_file_name[-1].strip(\"'\")))\n",
    "        continue\n",
    "\n",
    "        \n",
    "##\n"
   ]
  },
  {
   "cell_type": "code",
   "execution_count": 3,
   "id": "f3508401-c2c2-45b1-a7c8-32b44331e911",
   "metadata": {},
   "outputs": [],
   "source": [
    "for k in dlc_data.keys(): # remove lickport\n",
    "    if 'likelihood'in k or 'eye' in k[0].lower():# or 'pole' in k[0].lower() or 'lickport' in k[0].lower():\n",
    "        dlc_data.pop(k)\n",
    "\n",
    "\n"
   ]
  },
  {
   "cell_type": "code",
   "execution_count": 48,
   "id": "3882176f-2eb9-43a4-a062-c8be9f65e1c7",
   "metadata": {},
   "outputs": [
    {
     "data": {
      "text/plain": [
       "[<matplotlib.lines.Line2D at 0x7f9af8f639a0>]"
      ]
     },
     "execution_count": 48,
     "metadata": {},
     "output_type": "execute_result"
    },
    {
     "data": {
      "image/png": "[encoded data removed]",
      "text/plain": [
       "<Figure size 1080x1080 with 2 Axes>"
      ]
     },
     "metadata": {
      "needs_background": "light"
     },
     "output_type": "display_data"
    }
   ],
   "source": [
    "from sklearn.linear_model import LinearRegression,Ridge,Lasso\n",
    "\n",
    "filt_window = 10\n",
    "# fit factors one by one\n",
    "X = dlc_data.values#.rolling(window = 5).mean().values\n",
    "#X[np.isnan(X)] = 0\n",
    "xs = []\n",
    "ys = []\n",
    "\n",
    "fig = plt.figure(figsize = [15,15])\n",
    "ax1 = fig.add_subplot(2,2,1)\n",
    "ax2 = fig.add_subplot(2,2,2)\n",
    "\n",
    "for factor_name in facerhythm_data.keys():\n",
    "    Y = facerhythm_data[factor_name].values\n",
    "    lr = LinearRegression()   #Ridge(alpha = ridge_alpha)#Lasso(lasso_alpha/100)#\n",
    "    lr.fit(X,Y)\n",
    "    beta = lr.coef_\n",
    "    intercept = lr.intercept_\n",
    "    score_train=lr.score(X, Y)\n",
    "    ax1.text(np.std(Y),score_train,factor_name)\n",
    "    ys.append(score_train)\n",
    "    xs.append(np.std(Y))\n",
    "ax1.plot(xs,ys,'ko')\n",
    "ax1.set_ylabel('R^2')\n",
    "ax1.set_xlabel('std of data')\n",
    "ax1.set_ylim([0,1])\n",
    "ax1.set_title('FaceRhythm explained with DLC')\n",
    "\n",
    "\n",
    "X = facerhythm_data.values\n",
    "xs = []\n",
    "ys = []\n",
    "texts = []\n",
    "for factor_name in dlc_data.keys():\n",
    "    Y = dlc_data[factor_name].values\n",
    "    #Y= BCI_analysis.plot_utils.rollingfun(Y,20,'mean')\n",
    "    lr = LinearRegression()   #Ridge(alpha = ridge_alpha)#Lasso(lasso_alpha/100)#\n",
    "    lr.fit(X,Y)\n",
    "    beta = lr.coef_\n",
    "    intercept = lr.intercept_\n",
    "    score_train=lr.score(X, Y)\n",
    "    #print([factor_name,score_train,np.std(Y)])\n",
    "    ys.append(score_train)\n",
    "    xs.append(np.std(Y))\n",
    "    texts.append(factor_name)\n",
    "    ax2.text(np.std(Y),score_train,factor_name)\n",
    "ax2.plot(xs,ys,'ko')\n",
    "ax2.set_title('DLC explained with FaceRhythm')\n",
    "ax2.set_ylabel('R^2')\n",
    "ax2.set_xlabel('std of data')\n",
    "ax2.set_ylim([0,1])\n",
    "\n",
    "\n",
    "# with filtering\n",
    "\n",
    "X = dlc_data.rolling(window = filt_window).mean().values\n",
    "X[np.isnan(X)] = 0\n",
    "xs = []\n",
    "ys = []\n",
    "\n",
    "# ax1 = fig.add_subplot(2,2,3)\n",
    "# ax2 = fig.add_subplot(2,2,4)\n",
    "\n",
    "for factor_name in facerhythm_data.keys():\n",
    "    Y = facerhythm_data[factor_name].values\n",
    "    lr = LinearRegression()   #Ridge(alpha = ridge_alpha)#Lasso(lasso_alpha/100)#\n",
    "    lr.fit(X,Y)\n",
    "    beta = lr.coef_\n",
    "    intercept = lr.intercept_\n",
    "    score_train=lr.score(X, Y)\n",
    "    #ax1.text(np.std(Y),score_train,factor_name)\n",
    "    ys.append(score_train)\n",
    "    xs.append(np.std(Y))\n",
    "ax1.plot(xs,ys,'ro')\n",
    "#ax1.set_ylabel('R^2')\n",
    "#ax1.set_xlabel('std of data')\n",
    "#ax1.set_ylim([0,1])\n",
    "#ax1.set_title('FaceRhythm explained with filtered DLC')\n",
    "\n",
    "\n",
    "X = facerhythm_data.values\n",
    "xs = []\n",
    "ys = []\n",
    "texts = []\n",
    "for factor_name in dlc_data.keys():\n",
    "    Y = dlc_data[factor_name].values\n",
    "    Y= BCI_analysis.plot_utils.rollingfun(Y,filt_window,'mean')\n",
    "    lr = LinearRegression()   #Ridge(alpha = ridge_alpha)#Lasso(lasso_alpha/100)#\n",
    "    lr.fit(X,Y)\n",
    "    beta = lr.coef_\n",
    "    intercept = lr.intercept_\n",
    "    score_train=lr.score(X, Y)\n",
    "    #print([factor_name,score_train,np.std(Y)])\n",
    "    ys.append(score_train)\n",
    "    xs.append(np.std(Y))\n",
    "    texts.append(factor_name)\n",
    "    #ax2.text(np.std(Y),score_train,factor_name)\n",
    "ax2.plot(xs,ys,'ro')\n",
    "#ax2.set_title('filtered DLC explained with FaceRhythm')\n",
    "#ax2.set_ylabel('R^2')\n",
    "#ax2.set_xlabel('std of data')\n",
    "#ax2.set_ylim([0,1])"
   ]
  },
  {
   "cell_type": "code",
   "execution_count": 13,
   "id": "0db8ed25-3845-4452-b6af-bf1bd27bec91",
   "metadata": {},
   "outputs": [
    {
     "data": {
      "text/plain": [
       "Text(0.5, 1.0, 'dlc')"
      ]
     },
     "execution_count": 30,
     "metadata": {},
     "output_type": "execute_result"
    },
    {
     "data": {
      "image/png": "[encoded data removed]",
      "text/plain": [
       "<Figure size 432x288 with 1 Axes>"
      ]
     },
     "metadata": {
      "needs_background": "light"
     },
     "output_type": "display_data"
    }
   ],
   "source": [
    "from sklearn.decomposition import PCA\n",
    "\n",
    "pca = PCA(n_components=len(dlc_data.keys()), svd_solver='full')\n",
    "pca.fit(dlc_data.values)\n",
    "plt.plot(np.cumsum(pca.explained_variance_)/np.sum(pca.explained_variance_))\n",
    "plt.title('dlc')"
   ]
  },
  {
   "cell_type": "code",
   "execution_count": 14,
   "id": "ea6d3d6f-2dc4-449c-81e4-b21b5f6a49ca",
   "metadata": {},
   "outputs": [
    {
     "data": {
      "text/plain": [
       "Text(0.5, 1.0, 'facerhythm')"
      ]
     },
     "execution_count": 31,
     "metadata": {},
     "output_type": "execute_result"
    },
    {
     "data": {
      "image/png": "[encoded data removed]",
      "text/plain": [
       "<Figure size 432x288 with 1 Axes>"
      ]
     },
     "metadata": {
      "needs_background": "light"
     },
     "output_type": "display_data"
    }
   ],
   "source": [
    "from sklearn.decomposition import PCA\n",
    "\n",
    "pca = PCA(n_components=len(facerhythm_data.keys()), svd_solver='full')\n",
    "pca.fit(facerhythm_data.values)\n",
    "plt.plot(np.cumsum(pca.explained_variance_)/np.sum(pca.explained_variance_))\n",
    "plt.title('facerhythm')"
   ]
  },
  {
   "cell_type": "code",
   "execution_count": null,
   "id": "224fbd52-7f28-4d25-9325-56acdaa93faa",
   "metadata": {},
   "outputs": [],
   "source": []
  },
  {
   "cell_type": "code",
   "execution_count": null,
   "id": "e910148e-3d22-4198-9a47-bb014e39aaf5",
   "metadata": {},
   "outputs": [],
   "source": []
  },
  {
   "cell_type": "code",
   "execution_count": null,
   "id": "cc9c4923-27a4-4c5f-bc7b-70a2323fd86e",
   "metadata": {},
   "outputs": [],
   "source": []
  }
 ],
 "metadata": {
  "environment": {
   "kernel": "bci_with_suite2p",
   "name": "common-cpu.m92",
   "type": "gcloud",
   "uri": "gcr.io/deeplearning-platform-release/base-cpu:m92"
  },
  "kernelspec": {
   "display_name": "bci_with_suite2p",
   "language": "python",
   "name": "bci_with_suite2p"
  },
  "language_info": {
   "codemirror_mode": {
    "name": "ipython",
    "version": 3
   },
   "file_extension": ".py",
   "mimetype": "text/x-python",
   "name": "python",
   "nbconvert_exporter": "python",
   "pygments_lexer": "ipython3",
   "version": "3.8.13"
  }
 },
 "nbformat": 4,
 "nbformat_minor": 5
}
